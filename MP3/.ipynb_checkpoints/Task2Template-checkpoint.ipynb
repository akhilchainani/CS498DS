{
 "cells": [
  {
   "cell_type": "code",
   "execution_count": null,
   "metadata": {
    "collapsed": true
   },
   "outputs": [],
   "source": [
    "import opengm\n",
    "import numpy as np\n",
    "\n",
    "import sys\n",
    "import logging\n",
    "logging.basicConfig(level=logging.DEBUG,\n",
    "                    format='[%(levelname)s] (%(threadName)-10s) %(message)s',\n",
    "                    stream=sys.stdout)\n",
    "logging.info(\"Imports successful\")"
   ]
  },
  {
   "cell_type": "code",
   "execution_count": null,
   "metadata": {
    "collapsed": true
   },
   "outputs": [],
   "source": [
    "class FactorGraph(object):\n",
    "    \n",
    "    def __init__(self):\n",
    "        logging.debug(\"Created Factor Graph Object\")\n",
    "    \n",
    "    def infer(self):\n",
    "        logging.info(\"Running Inference\")\n",
    "        ###########################\n",
    "        # define binary variables #\n",
    "        ###########################\n",
    "        # two binary variables: \n",
    "        # var 0 (stage S1): dimension is 2\n",
    "        # var 1 (event E1): dimension is 2\n",
    "        variables = [2,2]\n",
    "\n",
    "        ################################\n",
    "        # # construct the Factor Graph #\n",
    "        ################################\n",
    "        gm = opengm.graphicalModel(variables, operator='multiplier')\n",
    "\n",
    "        ########################################################################################\n",
    "        # TODO: Fill in values in g_func, and g_var, according to the provided tables #\n",
    "        ########################################################################################\n",
    "        f_func = np.array([0.1, 0.9])   # priors f\n",
    "        f_var = [0]                     # f(S1) using S1 as variable 0\n",
    "        g_func = np.array([[,],[,]])    # factor function g\n",
    "        g_var = [,]                     # g(S1, S2)\n",
    "        ############\n",
    "        # END TODO #\n",
    "        ############\n",
    "\n",
    "\n",
    "        ##################################\n",
    "        # connect factor functions to FG #\n",
    "        ##################################\n",
    "\n",
    "        gm.addFactor(gm.addFunction(f_func),f_var) # add prior to event\n",
    "        gm.addFactor(gm.addFunction(g_func),g_var) # add factor function to event (E1) and stage (S1)\n",
    "\n",
    "\n",
    "        ##################################\n",
    "        # # belief propagation inference #\n",
    "        ##################################\n",
    "        inf=opengm.inference.BeliefPropagation(gm,accumulator='maximizer')\n",
    "        inf.infer()\n",
    "\n",
    "        ##############\n",
    "        # get argmax #\n",
    "        ##############\n",
    "\n",
    "        arg=inf.arg()\n",
    "        print(\"Inference result: \", arg)\n",
    "\n",
    "        ##############################\n",
    "        # get marginal probabilities #\n",
    "        ##############################\n",
    "        marginals = inf.marginals(range(len(variables)))\n",
    "\n",
    "        #############################################################\n",
    "        # # get marginal of the state variable (variable index = 0) #\n",
    "        #############################################################\n",
    "        vars = [0]\n",
    "        for i in vars:\n",
    "            marginals_xi = marginals[i]\n",
    "            marginals_xi /= np.sum(marginals_xi)\n",
    "            print(\"x_{} marginal: {}\".format(i, marginals_xi))\n",
    "        pass\n"
   ]
  },
  {
   "cell_type": "code",
   "execution_count": null,
   "metadata": {
    "collapsed": true
   },
   "outputs": [],
   "source": [
    "m = FactorGraph()\n",
    "m.infer()"
   ]
  },
  {
   "cell_type": "code",
   "execution_count": null,
   "metadata": {
    "collapsed": true
   },
   "outputs": [],
   "source": []
  }
 ],
 "metadata": {
  "kernelspec": {
   "display_name": "Python 3",
   "language": "python",
   "name": "python3"
  },
  "language_info": {
   "codemirror_mode": {
    "name": "ipython",
    "version": 3
   },
   "file_extension": ".py",
   "mimetype": "text/x-python",
   "name": "python",
   "nbconvert_exporter": "python",
   "pygments_lexer": "ipython3",
   "version": "3.6.3"
  }
 },
 "nbformat": 4,
 "nbformat_minor": 2
}

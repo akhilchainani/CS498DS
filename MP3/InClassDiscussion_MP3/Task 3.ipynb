{
 "cells": [
  {
   "cell_type": "markdown",
   "metadata": {},
   "source": [
    "# Factor Graph Python wrapper for OpenGM\n",
    "\n",
    "https://github.com/opengm/opengm"
   ]
  },
  {
   "cell_type": "code",
   "execution_count": 39,
   "metadata": {},
   "outputs": [],
   "source": [
    "import opengm\n",
    "import numpy as np\n",
    "from operator import itemgetter\n",
    "\n",
    "import sys\n",
    "import logging\n",
    "logging.basicConfig(level=logging.DEBUG,\n",
    "                    format='[%(levelname)s] (%(threadName)-10s) %(message)s',\n",
    "                    stream=sys.stdout \n",
    ")\n",
    "\n",
    "class FactorGraph(object):\n",
    "    \n",
    "    def __init__(self, variables, operator='multiplier'):\n",
    "        \"\"\"\n",
    "        Factor Graph Class\n",
    "        :param variables: python dictionary mapping graph variable names\n",
    "                          to dimensionality.\n",
    "                          For example, to define 2 binary variables:\n",
    "                          {\n",
    "                             'A': 2,\n",
    "                             'B': 2\n",
    "                          }\n",
    "        :param operator: Factor graph operator, leave as 'multiplier'\n",
    "        \"\"\"\n",
    "        assert isinstance(variables, dict)\n",
    "        \n",
    "        self.var_names = [vn for vn,_ in variables.items()]\n",
    "        dimensionality = [variables[vn] for vn in self.var_names]\n",
    "\n",
    "        # create factor graph with opengm\n",
    "        self.gm = opengm.graphicalModel(dimensionality, \n",
    "                                        operator=operator)\n",
    "        \n",
    "        self.inference = None\n",
    "        \n",
    "    \n",
    "    def add_factor_function(self, variables, probabilities):\n",
    "        \"\"\"\n",
    "        Add a factor function to the factor graph\n",
    "        \n",
    "        :param variables: variables to connect in the factor graph\n",
    "         NOTE: Variables must be specified in the same order as\n",
    "               the initialization function of the Factor Graph\n",
    "               \n",
    "        :probabilities: Probability table for factor function\n",
    "        \"\"\"\n",
    "        \n",
    "        # convert probability list to np.array\n",
    "        if not isinstance(probabilities, np.ndarray):\n",
    "            probabilities = np.array(probabilities)\n",
    "        \n",
    "        # if a single variable is specified,\n",
    "        # convert it to a list\n",
    "        if not isinstance(variables, list):\n",
    "            variables = [variables]\n",
    "        \n",
    "        # convert variable names to indices\n",
    "        variables = [self.var_names.index(v) for v in variables]\n",
    "        \n",
    "        # add factor function to graph\n",
    "        self.gm.addFactor(self.gm.addFunction(probabilities),\n",
    "                          variables)\n",
    "        \n",
    "        # reset the inference\n",
    "        self.inference = None\n",
    "    \n",
    "    def infer(self):\n",
    "        \"\"\"\n",
    "        Run inference on the defined factor graph\n",
    "        \"\"\"\n",
    "        self.inference = opengm.inference.BeliefPropagation(self.gm, accumulator='maximizer')\n",
    "        self.inference.infer()\n",
    "        \n",
    "    def get_argmax(self):\n",
    "        \"\"\"\n",
    "        Return index of state with maximum probability\n",
    "        \"\"\"\n",
    "        if not self.inference:\n",
    "            self.infer()\n",
    "            \n",
    "        argmax = self.inference.arg()\n",
    "        \n",
    "        return dict((vn, argmax[i]) for i, vn in enumerate(self.var_names))\n",
    "    \n",
    "    def get_marginals(self, marginal_vars):\n",
    "        \"\"\"\n",
    "        Get marginal probabilities for specified variables\n",
    "        \"\"\"\n",
    "        if not isinstance(marginal_vars, list):\n",
    "            marginal_vars = [marginal_vars]\n",
    "        \n",
    "        if not self.inference:\n",
    "            self.infer()\n",
    "        \n",
    "        marginal_probabilities =  self.inference.marginals(range(len(self.var_names)))\n",
    "        marginals_ret = {}\n",
    "        for v in marginal_vars:\n",
    "            i = self.var_names.index(v)\n",
    "            marginals_v = marginal_probabilities[i]\n",
    "            marginals_v /= np.sum(marginals_v)\n",
    "            marginals_ret[v] = marginals_v\n",
    "            \n",
    "        return marginals_ret"
   ]
  },
  {
   "cell_type": "markdown",
   "metadata": {},
   "source": [
    "# Task 2 \n",
    "\n",
    "<img src=\"./task2.png\" width=\"500\" height=\"300\" />\n",
    "<img src=\"./priors_task2.png\" width=\"300\" height=\"200\" />"
   ]
  },
  {
   "cell_type": "code",
   "execution_count": 40,
   "metadata": {},
   "outputs": [
    {
     "name": "stdout",
     "output_type": "stream",
     "text": [
      "Belief S1=0 : 0.782609\n",
      "Belief S1=1 : 0.217391\n",
      "Therefore, S1 is in state: 0\n"
     ]
    }
   ],
   "source": [
    "# create factor graph representation, i.e., add variables\n",
    "\n",
    "# Define Factor Graph\n",
    "m = FactorGraph({'S1':2, 'E1':2})\n",
    "m.add_factor_function('S1', [0.9, 0.1])           # f(S1)\n",
    "m.add_factor_function(['S1', 'E1'], [[0, 0.2],    # g(S1,E1)\n",
    "                                     [0, 0.5]])\n",
    "# Run Inference\n",
    "m.infer()\n",
    "\n",
    "# Get the marginal probabilities\n",
    "marginal_S1 = m.get_marginals('S1')\n",
    "\n",
    "# Get the argmax\n",
    "argmax = m.get_argmax()\n",
    "\n",
    "\n",
    "# Print the information\n",
    "print(\"Belief S1=0 : %f\" % marginal_S1['S1'][0])\n",
    "print(\"Belief S1=1 : %f\" % marginal_S1['S1'][1])\n",
    "print(\"Therefore, S1 is in state: %d\" % argmax['S1'])"
   ]
  },
  {
   "cell_type": "markdown",
   "metadata": {},
   "source": [
    "# Task 3"
   ]
  },
  {
   "cell_type": "markdown",
   "metadata": {},
   "source": [
    "# Build Factor Graph model based on task description\n",
    "### \\# stages = 11\n",
    "### \\# events = 5\n",
    "### \\# Total Timesteps = 9, hence 9 inferences in total\n",
    "\n",
    "### Sequence of observed events: scan -> login -> sensitive_uri -> sensitive_uri -> sensitive_uri -> new_kernel_module -> dns_tunneling -> dns_tunneling -> dns_tunneling\n",
    "\n",
    "<table>\n",
    "<tr><th><center> Security Stages </center></th><th> <center> Security Events </center> </th></tr>\n",
    "<tr><td><table></table>\n",
    "\n",
    "\n",
    "| Notation     \t| Stage                     \t|\n",
    "|--------------\t|---------------------------\t|\n",
    "| $ \\sigma_1$  \t| Benign                    \t|\n",
    "| $ \\sigma_2$  \t| Discovery                 \t|\n",
    "| $ \\sigma_3$  \t| Access                    \t|\n",
    "| $ \\sigma_4$  \t| Lateral Movement          \t|\n",
    "| $ \\sigma_5$  \t| Privilege Escalation      \t|\n",
    "| $ \\sigma_6$  \t| Persistence               \t|\n",
    "| $ \\sigma_7$  \t| Defense Evasion           \t|\n",
    "| $ \\sigma_8$  \t| Collection                \t|\n",
    "| $ \\sigma_9$  \t| Exfiltration              \t|\n",
    "| $ \\sigma_{10}$ \t| Command and Control       \t|\n",
    "| $ \\sigma_{11}$ \t| Vulnerable Code Execution \t|\n",
    "\n",
    "</td><td>\n",
    "\n",
    "| Notation     \t| Events                     \t|\n",
    "|--------------\t|---------------------------\t|\n",
    "| $ \\epsilon_1$  \t|  Scan                    \t|\n",
    "| $ \\epsilon_2$  \t|  Login                 \t|\n",
    "| $ \\epsilon_3$  \t|  Sensitive  URI            \t|\n",
    "| $ \\epsilon_4$  \t| New Kernel Module       \t|\n",
    "| $ \\epsilon_5$  \t|  DNS Tunneling         \t|\n",
    "\n",
    "</td></tr> </table>"
   ]
  },
  {
   "cell_type": "code",
   "execution_count": 41,
   "metadata": {},
   "outputs": [],
   "source": [
    "ATTACK_STATES_MAP = {\n",
    "    'benign': 1,\n",
    "    'discovery': 2,\n",
    "    'access': 3,\n",
    "    'lateral_movement': 4,\n",
    "    'privilege_escalation': 5,\n",
    "    'persistence': 6,\n",
    "    'defense_evasion': 7,\n",
    "    'collection': 8,\n",
    "    'exfiltration': 9,\n",
    "    'command_control': 10,\n",
    "    'execution': 11\n",
    "}\n",
    "\n",
    "ATTACKS = ['benign', 'discovery', 'access', 'lateral_movement', 'privilege_escalation', 'persistence', 'defense_evasion', 'collection', 'exfiltration', 'command_control', 'execution']"
   ]
  },
  {
   "cell_type": "markdown",
   "metadata": {},
   "source": [
    "### Action Probabilities\n",
    "\n",
    "| Stage Name            | No-Op Action | Monitor Action    | Stop Attack Action      |\n",
    "|-----------------------|--------------|-------------------|-------------------------|\n",
    "| Benign                | 1.00         | 0.00              | 0.00                    |\n",
    "| Discovery             | 0.61         | 0.39              | 0.00                    |\n",
    "| Access                | 0.69         | 0.31              | 0.00                    |\n",
    "| Lateral Movement      | 0.09         | 0.84              | 0.07                    |\n",
    "| Privilege Escalation  | 0.20         | 0.63              | 0.17                    |\n",
    "| Persistence           | 0.00         | 0.70              | 0.30                    |\n",
    "| Defense Evasion       | 0.00         | 0.07              | 0.93                    |\n",
    "| Collection            | 0.00         | 0.10              | 0.90                    |\n",
    "| Exfiltration          | 0.00         | 0.00              | 1.00                    |\n",
    "| Command and Control   | 0.00         | 0.00              | 1.00                    |\n",
    "| Execution             | 0.00         | 0.00              | 1.00                    |"
   ]
  },
  {
   "cell_type": "code",
   "execution_count": 63,
   "metadata": {},
   "outputs": [],
   "source": [
    "ACTIONS = {\n",
    "    # each value in an actions' vector corresponds to an attack stage\n",
    "    'NO-OP':   [1.,   0.61, 0.69, 0.09, 0.2 , 0. ,  0.,   0.,   0. ,  0. ,  0.  ],\n",
    "    'MONITOR': [0.  , 0.39, 0.31 ,0.84, 0.63, 0.7,  0.07 ,0.1 , 0. ,  0. ,  0.  ],\n",
    "    'STOP':    [0.  , 0.,   0.  , 0.07, 0.17, 0.3,  0.93 ,0.9 , 1. ,  1. ,  1.  ]\n",
    "}"
   ]
  },
  {
   "cell_type": "markdown",
   "metadata": {},
   "source": [
    "# As an example, model at timestep **t=1**\n",
    "#### at t = 1, $ E_1 = \\text{scan} $\n",
    "\n",
    "<img src=\"1.PNG\" />\n",
    "\n",
    "[//]: # (# Problem with the Naive Way)\n",
    "\n",
    "[//]: # (#### You would need to pass the complete distribution for each factor function.) \n",
    "[//]: # (#### Size of the factor function would be equal to )\n",
    "\n",
    "[//]: # (## $$ \\prod_{V=1}^{V=\\#\\text{Variables connected to factor function}} (\\#possible states) $$)\n",
    "\n",
    "\n",
    "\n",
    "# $f_s$ = \n",
    "<img src=\"./mat_naive.png\" width=\"600\" height=\"400\" />\n",
    "\n",
    "## Because you have observed the sequence, you only have to consider the states corresponding to that event\n",
    "[//]: # (#### However, you can do faster inference by leveraging the fact that observed events are constants in the factor graph, and you can directly pick the slice of the tensor that you need to do inference)\n",
    "\n",
    "# $f_1$ = \n",
    "<img src=\"./mat_smart.png\" width=\"600\" height=\"400\" />\n",
    "\n",
    "<img src=\"./1_new.png\" width=50 height=100/>"
   ]
  },
  {
   "cell_type": "markdown",
   "metadata": {},
   "source": [
    "[//]: # (# Factorg Graph)\n",
    "[//]: # (<img src=\"./fg_F_s.png\" width=\"1000\" height=\"800\" />)"
   ]
  },
  {
   "cell_type": "markdown",
   "metadata": {},
   "source": [
    "[//]: # (#   F$_s$ = \\begin{bmatrix} )\n",
    "[//]: # (#   p_{\\sigma_1,\\epsilon_1} & p_{\\sigma_2,\\epsilon_1} & p_{\\sigma_3,\\epsilon_1} & p_{\\sigma_4,\\epsilon_1} & p_{\\sigma_5,\\epsilon_1} &  p_{\\sigma_6,\\epsilon_1} & p_{\\sigma_7,\\epsilon_1} & p_{\\sigma_8,\\epsilon_1} & p_{\\sigma_9,\\epsilon_1} & p_{\\sigma_{10},\\epsilon_1} & p_{\\sigma_{11},\\epsilon_1}\\\\)\n",
    "[//]: # (#         p_{\\sigma_1,\\epsilon_2} & p_{\\sigma_2,\\epsilon_2} & p_{\\sigma_3,\\epsilon_2} & p_{\\sigma_4,\\epsilon_2} & p_{\\sigma_5,\\epsilon_2} &  p_{\\sigma_6,\\epsilon_2} & p_{\\sigma_7,\\epsilon_2} & p_{\\sigma_8,\\epsilon_2} & p_{\\sigma_9,\\epsilon_2} & p_{\\sigma_{10},\\epsilon_2} & p_{\\sigma_{11},\\epsilon_2} \\\\)\n",
    "[//]: # (#             p_{\\sigma_1,\\epsilon_3} & p_{\\sigma_2,\\epsilon_3} & p_{\\sigma_3,\\epsilon_3} & p_{\\sigma_4,\\epsilon_3} & p_{\\sigma_5,\\epsilon_3} &  p_{\\sigma_6,\\epsilon_3} & p_{\\sigma_7,\\epsilon_3} & p_{\\sigma_8,\\epsilon_3} & p_{\\sigma_9,\\epsilon_3} & p_{\\sigma_{10},\\epsilon_3} & p_{\\sigma_{11},\\epsilon_5}\\\\)\n",
    "[//]: # (#                 p_{\\sigma_1,\\epsilon_4} & p_{\\sigma_2,\\epsilon_4} & p_{\\sigma_3,\\epsilon_4} & p_{\\sigma_4,\\epsilon_4} & p_{\\sigma_5,\\epsilon_4} &  p_{\\sigma_6,\\epsilon_4} & p_{\\sigma_7,\\epsilon_4} & p_{\\sigma_8,\\epsilon_4} & p_{\\sigma_9,\\epsilon_4} & p_{\\sigma_{10},\\epsilon_4} & p_{\\sigma_{11},\\epsilon_5}\\\\)\n",
    "[//]: # (#                     p_{\\sigma_1,\\epsilon_5} & p_{\\sigma_2,\\epsilon_5} & p_{\\sigma_3,\\epsilon_5} & p_{\\sigma_4,\\epsilon_5} & p_{\\sigma_5,\\epsilon_5} &  p_{\\sigma_6,\\epsilon_5} & p_{\\sigma_7,\\epsilon_5} & p_{\\sigma_8,\\epsilon_5} & p_{\\sigma_9,\\epsilon_5} & p_{\\sigma_{10},\\epsilon_5} & p_{\\sigma_{11},\\epsilon_5}\\\\)\n",
    "[//]: # (#   \\end{bmatrix})"
   ]
  },
  {
   "cell_type": "markdown",
   "metadata": {},
   "source": [
    "# Factor Function Definition:\n",
    "<img src=\"pq.png\" />\n",
    "\n",
    "# Recap on significance\n",
    "### The P-value answers the following question: \n",
    "### What is the probability of the observed test statistic or one more extreme when H0 is true? \n",
    "\n",
    "<img src=\"./significance.png\" width=\"600\" height=\"400\" />\n",
    "\n",
    "### Belief is defined as q(1-p),\n",
    "#### where p is significance\n",
    "#### and q is Probability in past attacks \n"
   ]
  },
  {
   "cell_type": "code",
   "execution_count": 62,
   "metadata": {},
   "outputs": [],
   "source": [
    "def get_prob(stages, p, q):\n",
    "    assert len(p) == len(q) == len(stages)\n",
    "    prob = np.zeros(11)\n",
    "    for i in range(len(p)):\n",
    "        # -1 as the indexing in Python lists begin from 0\n",
    "        stage_idx = ATTACK_STATES_MAP[stages[i]] - 1 \n",
    "        prob[stage_idx] = q[i] * (1 - p[i])\n",
    "    # convert to an 1 x 11 matrix\n",
    "    return np.array(prob)\n",
    "\n",
    "def print_state_belief(mValues):\n",
    "    mValues = list(mValues)\n",
    "    print(\"Beliefs\", list(zip(ATTACKS,mValues[0:len(ATTACKS)])))"
   ]
  },
  {
   "cell_type": "markdown",
   "metadata": {},
   "source": [
    "# Solution to model at timestep, t = 1"
   ]
  },
  {
   "cell_type": "code",
   "execution_count": 61,
   "metadata": {},
   "outputs": [
    {
     "name": "stdout",
     "output_type": "stream",
     "text": [
      "('Beliefs', [('benign', 0.35570469798657717), ('discovery', 0.6442953020134228), ('access', 0.0), ('lateral_movement', 0.0), ('privilege_escalation', 0.0), ('persistence', 0.0), ('defense_evasion', 0.0), ('collection', 0.0), ('exfiltration', 0.0), ('command_control', 0.0), ('execution', 0.0)])\n",
      "{'S1': 1}\n",
      "Attack stage is discovery\n",
      "('Action Probabilities', [('STOP', 0.0), ('MONITOR', 0.39), ('NO-OP', 0.61)])\n",
      "Selected Action is NO-OP\n"
     ]
    }
   ],
   "source": [
    "# Lets create the factor graph in our solver corresponding to the model defined above\n",
    "# Add S1 to the model. Note the dimensionality of S1 is 11\n",
    "m = FactorGraph({'S1': 11})\n",
    "\n",
    "# Add the correspoding factor function f_1 \n",
    "S1Stagesf1 = ['discovery', 'benign']\n",
    "m.add_factor_function('S1', get_prob(S1Stagesf1, [0.04, 0.47], [0.5, 0.5]))\n",
    "\n",
    "# Run inference on the model which will help estimate the hidden state\n",
    "m.infer()\n",
    "\n",
    "marginal_S1 = m.get_marginals('S1')\n",
    "# print state values\n",
    "# print marginal_S1['S1']\n",
    "print_state_belief(marginal_S1['S1'])\n",
    "\n",
    "# Get the attack stage\n",
    "# To obtain the stage with max porbability, \n",
    "# we apply get_argmax() to get argmax, \n",
    "# which means the index of max probability stage\n",
    "\n",
    "argmax = m.get_argmax()\n",
    "print(argmax)\n",
    "print('Attack stage is %s' %  ATTACKS[argmax['S1']])\n",
    "\n",
    "\n",
    "# Determine the appropriate action associated with the attack stage\n",
    "\n",
    "# to determine the action to be taken, we look at the probability values\n",
    "# for the discovery stage for all posible actions, and pick the action\n",
    "# with the maximum probability\n",
    "idx = argmax['S1'] # \n",
    "action_probabilities = [(k, stage_list[idx]) for k, stage_list in ACTIONS.items()]\n",
    "print(\"Action Probabilities\", action_probabilities)\n",
    "max_action, max_probability = max(action_probabilities, key=itemgetter(1))\n",
    "print(\"Selected Action is %s\" % max_action)"
   ]
  },
  {
   "cell_type": "markdown",
   "metadata": {},
   "source": [
    "# # Factor Graph at t = 2\n",
    "### $ E_1 = \\text{scan}$\n",
    "### $ E_2 = \\text{login}$\n",
    "\n",
    "<img src=\"./t_2.png\" />\n",
    "\n",
    "### After making observations\n",
    "\n",
    "\n",
    "<img src=\"./t_2_impl.png\" />"
   ]
  },
  {
   "cell_type": "code",
   "execution_count": 60,
   "metadata": {},
   "outputs": [
    {
     "name": "stdout",
     "output_type": "stream",
     "text": [
      "('Beliefs', [('benign', 1.0), ('discovery', 0.0), ('access', 0.0), ('lateral_movement', 0.0), ('privilege_escalation', 0.0), ('persistence', 0.0), ('defense_evasion', 0.0), ('collection', 0.0), ('exfiltration', 0.0), ('command_control', 0.0), ('execution', 0.0)])\n",
      "Attack stage is benign\n",
      "('Action Probabilities', [('STOP', 0.0), ('MONITOR', 0.0), ('NO-OP', 1.0)])\n",
      "Selected Action is NO-OP\n"
     ]
    }
   ],
   "source": [
    "m = FactorGraph({'S1': 11,'S2':11})\n",
    "S1Stagesf1 = ['discovery', 'benign']\n",
    "m.add_factor_function('S1', get_prob(S1Stagesf1, [0.04, 0.47], [0.5, 0.5]))\n",
    "S2Stagesf2 = ['benign']\n",
    "m.add_factor_function('S2', get_prob(S2Stagesf2, [0.01], [0.5]))\n",
    "m.infer()\n",
    "\n",
    "marginal_S2 = m.get_marginals('S2')\n",
    "print_state_belief(marginal_S2['S2'])\n",
    "\n",
    "argmax = m.get_argmax()\n",
    "print('Attack stage is %s' % ATTACKS[argmax['S2']])\n",
    "\n",
    "idx = argmax['S2']\n",
    "action_probabilities = [(k, stage_list[idx]) for k, stage_list in ACTIONS.items()]\n",
    "print(\"Action Probabilities\", action_probabilities)\n",
    "\n",
    "max_action, max_probability = max(action_probabilities, key=itemgetter(1))\n",
    "print(\"Selected Action is %s\" % max_action)"
   ]
  },
  {
   "cell_type": "markdown",
   "metadata": {},
   "source": [
    "# Factor Graph at t = 5 "
   ]
  },
  {
   "cell_type": "code",
   "execution_count": 59,
   "metadata": {},
   "outputs": [],
   "source": [
    "m = FactorGraph({'S1': 11,'S2':11,'S3':11,'S4':11,'S5':11})\n",
    "S1Stagesf1 = ['discovery', 'benign']\n",
    "m.add_factor_function('S1', get_prob(S1Stagesf1, [0.04, 0.47], [0.5, 0.5]))\n",
    "S2Stagesf2 = ['benign']\n",
    "m.add_factor_function('S2', get_prob(S2Stagesf2, [0.01], [0.5]))\n",
    "S3Stagesf3 = ['privilege_escalation', 'benign']\n",
    "m.add_factor_function('S3', get_prob(S3Stagesf3, [0.02, 0.02], [0.1, 0.1]))\n",
    "S4Stagesf4 = ['privilege_escalation', 'benign']\n",
    "m.add_factor_function('S4', get_prob(S4Stagesf4, [0.02, 0.02], [0.1, 0.1]))\n",
    "S5Stagesf5 = ['privilege_escalation', 'benign']\n",
    "m.add_factor_function('S5', get_prob(S5Stagesf5, [0.02, 0.02], [0.1, 0.1]))\n",
    "\n",
    "# Need to add factor function r as privelage_escalation is repeated thrice \n",
    "# and according to the table, we need to add corresponding factor function r\n",
    "S5StagesR = ['privilege_escalation']\n",
    "m.add_factor_function('S5', get_prob(S5StagesR, [0.05], [0.15])) #r\n",
    "m.infer()\n"
   ]
  },
  {
   "cell_type": "markdown",
   "metadata": {},
   "source": [
    "<img src=\"./factorR.png\" />"
   ]
  },
  {
   "cell_type": "code",
   "execution_count": 33,
   "metadata": {},
   "outputs": [
    {
     "name": "stdout",
     "output_type": "stream",
     "text": [
      "Done\n"
     ]
    }
   ],
   "source": [
    "print(\"Done\")"
   ]
  }
 ],
 "metadata": {
  "kernelspec": {
   "display_name": "Python 2",
   "language": "python",
   "name": "python2"
  },
  "language_info": {
   "codemirror_mode": {
    "name": "ipython",
    "version": 2
   },
   "file_extension": ".py",
   "mimetype": "text/x-python",
   "name": "python",
   "nbconvert_exporter": "python",
   "pygments_lexer": "ipython2",
   "version": "2.7.13"
  }
 },
 "nbformat": 4,
 "nbformat_minor": 2
}

{
 "cells": [
  {
   "cell_type": "code",
   "execution_count": 2,
   "metadata": {
    "collapsed": true
   },
   "outputs": [],
   "source": [
    "import numpy as np\n",
    "import matplotlib.pyplot as plt\n",
    "import matplotlib\n",
    "import pandas as pd"
   ]
  },
  {
   "cell_type": "markdown",
   "metadata": {},
   "source": [
    "## Read in dataset"
   ]
  },
  {
   "cell_type": "code",
   "execution_count": 3,
   "metadata": {},
   "outputs": [],
   "source": [
    "month1 = pd.read_csv(\"aug13_decoded\", sep='\\t')\n",
    "month2 = pd.read_csv(\"sep13_decoded\", sep='\\t')\n",
    "\n",
    "# merge datasets into df\n",
    "df = pd.concat([month1, month2])"
   ]
  },
  {
   "cell_type": "markdown",
   "metadata": {},
   "source": [
    "## Let's inspect the dataset"
   ]
  },
  {
   "cell_type": "code",
   "execution_count": 4,
   "metadata": {},
   "outputs": [
    {
     "data": {
      "text/html": [
       "<div>\n",
       "<style>\n",
       "    .dataframe thead tr:only-child th {\n",
       "        text-align: right;\n",
       "    }\n",
       "\n",
       "    .dataframe thead th {\n",
       "        text-align: left;\n",
       "    }\n",
       "\n",
       "    .dataframe tbody tr th {\n",
       "        vertical-align: top;\n",
       "    }\n",
       "</style>\n",
       "<table border=\"1\" class=\"dataframe\">\n",
       "  <thead>\n",
       "    <tr style=\"text-align: right;\">\n",
       "      <th></th>\n",
       "      <th>NodeID</th>\n",
       "      <th>Date Time</th>\n",
       "      <th>Complete Node</th>\n",
       "      <th>Cabinet</th>\n",
       "      <th>Chassis</th>\n",
       "      <th>Slot</th>\n",
       "      <th>Node</th>\n",
       "      <th>Node Type</th>\n",
       "      <th>Processor</th>\n",
       "      <th>Time</th>\n",
       "      <th>...</th>\n",
       "      <th>Cache way in error</th>\n",
       "      <th>Syndrome</th>\n",
       "      <th>Core</th>\n",
       "      <th>Errorcode</th>\n",
       "      <th>Ext_errorcode</th>\n",
       "      <th>Error Type</th>\n",
       "      <th>Addr</th>\n",
       "      <th>Addr Desc</th>\n",
       "      <th>Errorcode Type</th>\n",
       "      <th>Misc</th>\n",
       "    </tr>\n",
       "  </thead>\n",
       "  <tbody>\n",
       "    <tr>\n",
       "      <th>0</th>\n",
       "      <td>70</td>\n",
       "      <td>2013-08-01 00:01:24</td>\n",
       "      <td>c19-7c1s7n1</td>\n",
       "      <td>19-7</td>\n",
       "      <td>1.0</td>\n",
       "      <td>7.0</td>\n",
       "      <td>1.0</td>\n",
       "      <td>xe</td>\n",
       "      <td>2:600f12</td>\n",
       "      <td>1.375333e+09</td>\n",
       "      <td>...</td>\n",
       "      <td>NaN</td>\n",
       "      <td>'110000100</td>\n",
       "      <td>0.0</td>\n",
       "      <td>'100001011</td>\n",
       "      <td>'11100</td>\n",
       "      <td>L3 Cache Data Error, Single bit Error, Cache W...</td>\n",
       "      <td>0d1c4</td>\n",
       "      <td>Physical</td>\n",
       "      <td>mem</td>\n",
       "      <td>c00a000001000000</td>\n",
       "    </tr>\n",
       "    <tr>\n",
       "      <th>1</th>\n",
       "      <td>70</td>\n",
       "      <td>2013-08-01 00:05:46</td>\n",
       "      <td>c17-0c1s7n0</td>\n",
       "      <td>17-0</td>\n",
       "      <td>1.0</td>\n",
       "      <td>7.0</td>\n",
       "      <td>0.0</td>\n",
       "      <td>xk</td>\n",
       "      <td>2:600f12</td>\n",
       "      <td>1.375334e+09</td>\n",
       "      <td>...</td>\n",
       "      <td>NaN</td>\n",
       "      <td>'100101110</td>\n",
       "      <td>NaN</td>\n",
       "      <td>'100000010011</td>\n",
       "      <td>'1000</td>\n",
       "      <td>ECC Error</td>\n",
       "      <td>44bd7910</td>\n",
       "      <td>Physical</td>\n",
       "      <td>bus</td>\n",
       "      <td>c00a002f01000000</td>\n",
       "    </tr>\n",
       "    <tr>\n",
       "      <th>2</th>\n",
       "      <td>70</td>\n",
       "      <td>2013-08-01 00:06:24</td>\n",
       "      <td>c12-7c2s6n1</td>\n",
       "      <td>12-7</td>\n",
       "      <td>2.0</td>\n",
       "      <td>6.0</td>\n",
       "      <td>1.0</td>\n",
       "      <td>xe</td>\n",
       "      <td>2:600f12</td>\n",
       "      <td>1.375334e+09</td>\n",
       "      <td>...</td>\n",
       "      <td>NaN</td>\n",
       "      <td>'1110110100100000</td>\n",
       "      <td>NaN</td>\n",
       "      <td>'101000010011</td>\n",
       "      <td>'1000</td>\n",
       "      <td>ECC Error</td>\n",
       "      <td>483b3e350</td>\n",
       "      <td>Physical</td>\n",
       "      <td>bus</td>\n",
       "      <td>c00a000101000000</td>\n",
       "    </tr>\n",
       "    <tr>\n",
       "      <th>3</th>\n",
       "      <td>70</td>\n",
       "      <td>2013-08-01 00:06:24</td>\n",
       "      <td>c10-9c0s7n3</td>\n",
       "      <td>10-9</td>\n",
       "      <td>0.0</td>\n",
       "      <td>7.0</td>\n",
       "      <td>3.0</td>\n",
       "      <td>xe</td>\n",
       "      <td>2:600f12</td>\n",
       "      <td>1.375334e+09</td>\n",
       "      <td>...</td>\n",
       "      <td>NaN</td>\n",
       "      <td>'10</td>\n",
       "      <td>7.0</td>\n",
       "      <td>'100011011</td>\n",
       "      <td>'11100</td>\n",
       "      <td>L3 Cache Data Error, Single bit Error, Cache W...</td>\n",
       "      <td>411bf0e44</td>\n",
       "      <td>Physical</td>\n",
       "      <td>mem</td>\n",
       "      <td>c00a000001000000</td>\n",
       "    </tr>\n",
       "    <tr>\n",
       "      <th>4</th>\n",
       "      <td>70</td>\n",
       "      <td>2013-08-01 00:06:27</td>\n",
       "      <td>c19-5c2s3n3</td>\n",
       "      <td>19-5</td>\n",
       "      <td>2.0</td>\n",
       "      <td>3.0</td>\n",
       "      <td>3.0</td>\n",
       "      <td>xe</td>\n",
       "      <td>2:600f12</td>\n",
       "      <td>1.375334e+09</td>\n",
       "      <td>...</td>\n",
       "      <td>NaN</td>\n",
       "      <td>'1001110100000001</td>\n",
       "      <td>NaN</td>\n",
       "      <td>'101000010011</td>\n",
       "      <td>'1000</td>\n",
       "      <td>ECC Error</td>\n",
       "      <td>4854e0c40</td>\n",
       "      <td>Physical</td>\n",
       "      <td>bus</td>\n",
       "      <td>c00a000101000000</td>\n",
       "    </tr>\n",
       "  </tbody>\n",
       "</table>\n",
       "<p>5 rows × 36 columns</p>\n",
       "</div>"
      ],
      "text/plain": [
       "   NodeID            Date Time Complete Node Cabinet  Chassis  Slot  Node  \\\n",
       "0      70  2013-08-01 00:01:24   c19-7c1s7n1    19-7      1.0   7.0   1.0   \n",
       "1      70  2013-08-01 00:05:46   c17-0c1s7n0    17-0      1.0   7.0   0.0   \n",
       "2      70  2013-08-01 00:06:24   c12-7c2s6n1    12-7      2.0   6.0   1.0   \n",
       "3      70  2013-08-01 00:06:24   c10-9c0s7n3    10-9      0.0   7.0   3.0   \n",
       "4      70  2013-08-01 00:06:27   c19-5c2s3n3    19-5      2.0   3.0   3.0   \n",
       "\n",
       "  Node Type  Processor          Time        ...         Cache way in error  \\\n",
       "0        xe  2:600f12   1.375333e+09        ...                        NaN   \n",
       "1        xk  2:600f12   1.375334e+09        ...                        NaN   \n",
       "2        xe  2:600f12   1.375334e+09        ...                        NaN   \n",
       "3        xe  2:600f12   1.375334e+09        ...                        NaN   \n",
       "4        xe  2:600f12   1.375334e+09        ...                        NaN   \n",
       "\n",
       "            Syndrome  Core      Errorcode  Ext_errorcode  \\\n",
       "0         '110000100   0.0     '100001011         '11100   \n",
       "1         '100101110   NaN  '100000010011          '1000   \n",
       "2  '1110110100100000   NaN  '101000010011          '1000   \n",
       "3                '10   7.0     '100011011         '11100   \n",
       "4  '1001110100000001   NaN  '101000010011          '1000   \n",
       "\n",
       "                                          Error Type       Addr  Addr Desc  \\\n",
       "0  L3 Cache Data Error, Single bit Error, Cache W...      0d1c4   Physical   \n",
       "1                                          ECC Error   44bd7910   Physical   \n",
       "2                                          ECC Error  483b3e350   Physical   \n",
       "3  L3 Cache Data Error, Single bit Error, Cache W...  411bf0e44   Physical   \n",
       "4                                          ECC Error  4854e0c40   Physical   \n",
       "\n",
       "   Errorcode Type              Misc  \n",
       "0             mem  c00a000001000000  \n",
       "1             bus  c00a002f01000000  \n",
       "2             bus  c00a000101000000  \n",
       "3             mem  c00a000001000000  \n",
       "4             bus  c00a000101000000  \n",
       "\n",
       "[5 rows x 36 columns]"
      ]
     },
     "execution_count": 4,
     "metadata": {},
     "output_type": "execute_result"
    }
   ],
   "source": [
    "df.head()"
   ]
  },
  {
   "cell_type": "code",
   "execution_count": 5,
   "metadata": {},
   "outputs": [
    {
     "data": {
      "text/plain": [
       "Index(['NodeID', 'Date Time', 'Complete Node', 'Cabinet', 'Chassis', 'Slot',\n",
       "       'Node', 'Node Type', 'Processor', 'Time', 'Socket', 'Apic', 'Bank',\n",
       "       'Err Val', 'OV', 'UC', 'PCC', 'CECC', 'UECC', 'DEF', 'POISON',\n",
       "       'L3 Subcache', 'Sub Link', 'LDT Link', 'Scrub', 'Link',\n",
       "       'Cache way in error', 'Syndrome', 'Core', 'Errorcode', 'Ext_errorcode',\n",
       "       'Error Type', 'Addr', 'Addr Desc', 'Errorcode Type', 'Misc'],\n",
       "      dtype='object')"
      ]
     },
     "execution_count": 5,
     "metadata": {},
     "output_type": "execute_result"
    }
   ],
   "source": [
    "df.keys()"
   ]
  },
  {
   "cell_type": "code",
   "execution_count": 6,
   "metadata": {},
   "outputs": [
    {
     "name": "stdout",
     "output_type": "stream",
     "text": [
      "'100000101           20799\n",
      "'111100001           20753\n",
      "'111001010           20692\n",
      "'10111001            20590\n",
      "10000010000000       20074\n",
      "'10000101            19452\n",
      "'111000110           17401\n",
      "'1000000100000       11077\n",
      "'1000101100010000     6391\n",
      "'10001100111          5948\n",
      "'101011100            5846\n",
      "'10110000             5784\n",
      "'110001100000001      5771\n",
      "'1000000000100        5251\n",
      "'1000000000100111     4956\n",
      "'10000011             4891\n",
      "'1000000010101011     4880\n",
      "'100000000010         4858\n",
      "'100000010000000      4628\n",
      "'10010001011          4053\n",
      "'10000                3547\n",
      "'10000010000000       3496\n",
      "'110001100000010      3320\n",
      "'1000000001000000     3285\n",
      "'110011101            3278\n",
      "'10011000110          3239\n",
      "'10000001000000       3203\n",
      "'10000000000101       3199\n",
      "'100100010            3140\n",
      "'10000010000          2802\n",
      "                     ...  \n",
      "'1001011100000000        1\n",
      "'111011001111111         1\n",
      "'10110100011001          1\n",
      "'1100101                 1\n",
      "'1011101111110           1\n",
      "'11110011011111          1\n",
      "'1010110110101100        1\n",
      "'1110110010101           1\n",
      "'10100110010101          1\n",
      "'1001010100011101        1\n",
      "111001101100011          1\n",
      "'1101000000000           1\n",
      "'100110100000101         1\n",
      "'1001010100000000        1\n",
      "'111110111111010         1\n",
      "'100001100000000         1\n",
      "'10110110110111          1\n",
      "'1010110110110001        1\n",
      "'1101010110111111        1\n",
      "'1110101110110111        1\n",
      "'100100111101            1\n",
      "'100100010010000         1\n",
      "'111000000000000         1\n",
      "'1010010111010           1\n",
      "'1001001111110001        1\n",
      "'1000100000010000        1\n",
      "'10000010                1\n",
      "'1001101100000000        1\n",
      "'10100000110001          1\n",
      "101100000000000          1\n",
      "Name: Syndrome, Length: 1507, dtype: int64\n"
     ]
    }
   ],
   "source": [
    "# J: how do these columns look?\n",
    "# df['UECC'].value_counts()\n",
    "print(df['Syndrome'].value_counts())\n"
   ]
  },
  {
   "cell_type": "markdown",
   "metadata": {},
   "source": [
    "## Looks like we have some timestamps in the 'Time' column.\n",
    "## Let's convert these to human readable timestamps"
   ]
  },
  {
   "cell_type": "code",
   "execution_count": 7,
   "metadata": {
    "collapsed": true
   },
   "outputs": [],
   "source": [
    "df['datetime'] = pd.to_datetime(df['Time'], unit='s')\n",
    "df['datetime'] = df['datetime'].dt.tz_localize('America/Chicago', ambiguous=True)\n"
   ]
  },
  {
   "cell_type": "code",
   "execution_count": 8,
   "metadata": {},
   "outputs": [
    {
     "name": "stdout",
     "output_type": "stream",
     "text": [
      "1970-01-01 00:00:01-06:00\n",
      "2013-10-01 04:58:06-05:00\n"
     ]
    }
   ],
   "source": [
    "print(min(df['datetime']))\n",
    "print(max(df['datetime']))"
   ]
  },
  {
   "cell_type": "markdown",
   "metadata": {},
   "source": [
    "## Hmm, we shouldn't have timestamps from 1970. This is probably bad data.\n",
    "## Let's filter out these bad entries"
   ]
  },
  {
   "cell_type": "code",
   "execution_count": 9,
   "metadata": {},
   "outputs": [
    {
     "name": "stdout",
     "output_type": "stream",
     "text": [
      "0         1.375333e+09\n",
      "1         1.375334e+09\n",
      "2         1.375334e+09\n",
      "3         1.375334e+09\n",
      "4         1.375334e+09\n",
      "5         1.375334e+09\n",
      "6         1.375334e+09\n",
      "7         1.375334e+09\n",
      "8         1.375334e+09\n",
      "9         1.375335e+09\n",
      "10        1.375331e+09\n",
      "11        1.375331e+09\n",
      "12        1.375331e+09\n",
      "13        1.375331e+09\n",
      "14        1.375331e+09\n",
      "15        1.375331e+09\n",
      "16        1.375331e+09\n",
      "17        1.375331e+09\n",
      "18        1.375331e+09\n",
      "19        1.375331e+09\n",
      "20        1.375331e+09\n",
      "21        1.375331e+09\n",
      "22        1.375331e+09\n",
      "23        1.375331e+09\n",
      "24        1.375331e+09\n",
      "25        1.375331e+09\n",
      "26        1.375331e+09\n",
      "27        1.375331e+09\n",
      "28        1.375331e+09\n",
      "29        1.375331e+09\n",
      "              ...     \n",
      "184598    1.380603e+09\n",
      "184599    1.380603e+09\n",
      "184600    1.380603e+09\n",
      "184601    1.380603e+09\n",
      "184602    1.380599e+09\n",
      "184603    1.380599e+09\n",
      "184604    1.380599e+09\n",
      "184605    1.380599e+09\n",
      "184606    1.380599e+09\n",
      "184607    1.380599e+09\n",
      "184608    1.380599e+09\n",
      "184609    1.380599e+09\n",
      "184610    1.380599e+09\n",
      "184611    1.380599e+09\n",
      "184612    1.380599e+09\n",
      "184613    1.380599e+09\n",
      "184614    1.380599e+09\n",
      "184615    1.380599e+09\n",
      "184616    1.380599e+09\n",
      "184617    1.380599e+09\n",
      "184618    1.380603e+09\n",
      "184619    1.380603e+09\n",
      "184620    1.380603e+09\n",
      "184621    1.380603e+09\n",
      "184622    1.380603e+09\n",
      "184623    1.380603e+09\n",
      "184624    1.380600e+09\n",
      "184625    1.380600e+09\n",
      "184626    1.380603e+09\n",
      "184627    1.380603e+09\n",
      "Name: Time, Length: 399445, dtype: float64\n"
     ]
    }
   ],
   "source": [
    "# J: checking data values\n",
    "print(df['Time'])"
   ]
  },
  {
   "cell_type": "code",
   "execution_count": 10,
   "metadata": {
    "collapsed": true
   },
   "outputs": [],
   "source": [
    "# keep entries between July 31st and Oct 2nd\n",
    "df = df[(1375272000 < df['Time']) & (df['Time'] < 1380715200)]\n",
    "\n",
    "# If you open up the datasets in a text editor, you'll see that \n",
    "# Node Type entries with 'service_not_present' have incomplete information\n",
    "df = df[df['Node Type'] != 'service_not_present']"
   ]
  },
  {
   "cell_type": "code",
   "execution_count": 11,
   "metadata": {},
   "outputs": [
    {
     "name": "stdout",
     "output_type": "stream",
     "text": [
      "0              xe\n",
      "1              xk\n",
      "2              xe\n",
      "3              xe\n",
      "4              xe\n",
      "5              xk\n",
      "6              xk\n",
      "7              xk\n",
      "8              xk\n",
      "9              xk\n",
      "13        service\n",
      "14        service\n",
      "16        service\n",
      "17        service\n",
      "19        service\n",
      "20        service\n",
      "22        service\n",
      "23        service\n",
      "25        service\n",
      "26        service\n",
      "28        service\n",
      "29        service\n",
      "31        service\n",
      "32        service\n",
      "33        service\n",
      "34        service\n",
      "35             xe\n",
      "36             xk\n",
      "37             xk\n",
      "38             xe\n",
      "           ...   \n",
      "184598         xe\n",
      "184599         xe\n",
      "184600         xe\n",
      "184601         xe\n",
      "184602         xe\n",
      "184603         xe\n",
      "184604         xe\n",
      "184605         xe\n",
      "184606         xe\n",
      "184607         xe\n",
      "184608         xe\n",
      "184609         xe\n",
      "184610         xe\n",
      "184611         xe\n",
      "184612         xe\n",
      "184613         xe\n",
      "184614         xe\n",
      "184615         xe\n",
      "184616         xe\n",
      "184617         xe\n",
      "184618         xe\n",
      "184619         xe\n",
      "184620         xe\n",
      "184621         xe\n",
      "184622         xe\n",
      "184623         xe\n",
      "184624         xe\n",
      "184625         xe\n",
      "184626         xe\n",
      "184627         xe\n",
      "Name: Node Type, Length: 389624, dtype: object\n"
     ]
    }
   ],
   "source": [
    "print(df['Node Type'])"
   ]
  },
  {
   "cell_type": "code",
   "execution_count": 12,
   "metadata": {},
   "outputs": [
    {
     "name": "stdout",
     "output_type": "stream",
     "text": [
      "2013-08-01 04:26:05-05:00\n",
      "2013-10-01 04:58:06-05:00\n"
     ]
    }
   ],
   "source": [
    "print(min(df['datetime']))\n",
    "print(max(df['datetime']))"
   ]
  },
  {
   "cell_type": "markdown",
   "metadata": {},
   "source": [
    "## Much better"
   ]
  },
  {
   "cell_type": "markdown",
   "metadata": {},
   "source": [
    "## Task 0 - Let's count some columns\n"
   ]
  },
  {
   "cell_type": "code",
   "execution_count": 13,
   "metadata": {},
   "outputs": [
    {
     "data": {
      "text/plain": [
       "389624"
      ]
     },
     "execution_count": 13,
     "metadata": {},
     "output_type": "execute_result"
    }
   ],
   "source": [
    "# total number of entries\n",
    "len(df)"
   ]
  },
  {
   "cell_type": "code",
   "execution_count": 14,
   "metadata": {},
   "outputs": [
    {
     "data": {
      "text/plain": [
       "6222"
      ]
     },
     "execution_count": 14,
     "metadata": {},
     "output_type": "execute_result"
    }
   ],
   "source": [
    "# number of nodes\n",
    "len(df['Complete Node'].unique())"
   ]
  },
  {
   "cell_type": "code",
   "execution_count": 15,
   "metadata": {},
   "outputs": [
    {
     "data": {
      "text/plain": [
       "60"
      ]
     },
     "execution_count": 15,
     "metadata": {},
     "output_type": "execute_result"
    }
   ],
   "source": [
    "# number of days\n",
    "# normalize() sets the time to 00:00:00 giving us only the date portion of the timestamp/\n",
    "len(df['datetime'].dt.normalize().unique())"
   ]
  },
  {
   "cell_type": "code",
   "execution_count": 16,
   "metadata": {},
   "outputs": [
    {
     "data": {
      "text/plain": [
       "array(['xe', 'xk', 'service'], dtype=object)"
      ]
     },
     "execution_count": 16,
     "metadata": {},
     "output_type": "execute_result"
    }
   ],
   "source": [
    "# node types\n",
    "df['Node Type'].unique()"
   ]
  },
  {
   "cell_type": "code",
   "execution_count": 17,
   "metadata": {},
   "outputs": [
    {
     "data": {
      "text/plain": [
       "c13-4c0s2n0     20738\n",
       "c18-7c1s2n3     20671\n",
       "c21-5c0s3n0     20601\n",
       "c0-11c2s3n1     20570\n",
       "c1-3c2s7n1      19398\n",
       "c16-9c2s2n0     14425\n",
       "c8-0c1s7n3      10451\n",
       "c13-7c0s6n1      9188\n",
       "c16-11c2s3n3     9115\n",
       "c22-10c1s3n2     7147\n",
       "c5-4c2s3n3       6619\n",
       "c8-6c2s7n3       6489\n",
       "c13-9c0s1n0      5987\n",
       "c17-3c2s2n3      5745\n",
       "c22-8c2s5n0      5708\n",
       "c3-8c0s4n3       5189\n",
       "c9-1c1s1n0       5034\n",
       "c3-7c0s5n3       4813\n",
       "c7-8c1s0n1       4012\n",
       "c19-5c2s7n1      3589\n",
       "c5-3c0s5n1       3168\n",
       "c7-10c2s1n1      2984\n",
       "c6-11c2s0n2      2965\n",
       "c5-5c1s0n2       2883\n",
       "c13-11c2s3n1     2758\n",
       "c7-11c1s2n1      2598\n",
       "c19-9c2s7n0      2520\n",
       "c3-0c2s7n3       2449\n",
       "c7-8c1s4n2       2342\n",
       "c15-3c2s7n1      2270\n",
       "                ...  \n",
       "c16-11c1s7n2        1\n",
       "c18-2c0s7n2         1\n",
       "c15-11c0s5n3        1\n",
       "c4-0c0s4n0          1\n",
       "c0-11c2s2n3         1\n",
       "c7-1c0s4n2          1\n",
       "c8-0c1s5n0          1\n",
       "c10-5c2s2n0         1\n",
       "c8-9c0s1n2          1\n",
       "c19-9c2s1n2         1\n",
       "c3-5c1s2n3          1\n",
       "c12-10c1s1n3        1\n",
       "c4-5c2s7n1          1\n",
       "c23-7c0s5n0         1\n",
       "c5-8c1s5n0          1\n",
       "c20-4c0s0n1         1\n",
       "c13-11c0s0n2        1\n",
       "c7-2c1s7n3          1\n",
       "c16-5c2s5n3         1\n",
       "c14-0c1s7n0         1\n",
       "c14-6c2s3n2         1\n",
       "c1-7c2s5n2          1\n",
       "c1-10c1s6n1         1\n",
       "c3-2c0s7n1          1\n",
       "c20-10c1s7n0        1\n",
       "c14-2c1s3n1         1\n",
       "c3-9c0s3n2          1\n",
       "c14-7c0s7n1         1\n",
       "c16-2c1s4n0         1\n",
       "c22-3c0s0n1         1\n",
       "Name: Complete Node, Length: 6222, dtype: int64"
      ]
     },
     "execution_count": 17,
     "metadata": {},
     "output_type": "execute_result"
    }
   ],
   "source": [
    "df['Complete Node'].value_counts()\n",
    "\n",
    "# don't forget to represent this data as a box plot"
   ]
  },
  {
   "cell_type": "code",
   "execution_count": 18,
   "metadata": {},
   "outputs": [
    {
     "data": {
      "text/plain": [
       "(13.526413995067026, 8039.182077463628)"
      ]
     },
     "execution_count": 18,
     "metadata": {},
     "output_type": "execute_result"
    }
   ],
   "source": [
    "#BEFORE\n",
    "\n",
    "timevals = df['Time'].values\n",
    "\n",
    "# this finds the difference between consecutive values in timevals\n",
    "diffs = timevals[1:] - timevals[:-1]\n",
    "diffs.mean(), diffs.std()"
   ]
  },
  {
   "cell_type": "code",
   "execution_count": 19,
   "metadata": {
    "scrolled": false
   },
   "outputs": [
    {
     "name": "stdout",
     "output_type": "stream",
     "text": [
      "DONE\n"
     ]
    }
   ],
   "source": [
    "df.sort_values(by=['Time']);\n",
    "print(\"DONE\")"
   ]
  },
  {
   "cell_type": "code",
   "execution_count": 20,
   "metadata": {},
   "outputs": [
    {
     "data": {
      "text/plain": [
       "(13.526413995067026, 8039.182077463628)"
      ]
     },
     "execution_count": 20,
     "metadata": {},
     "output_type": "execute_result"
    }
   ],
   "source": [
    "# AFTER sorted by time\n",
    "timevals = df['Time'].values\n",
    "\n",
    "# this finds the difference between consecutive values in timevals\n",
    "diffs = timevals[1:] - timevals[:-1]\n",
    "diffs.mean(), diffs.std()"
   ]
  },
  {
   "cell_type": "code",
   "execution_count": 21,
   "metadata": {},
   "outputs": [
    {
     "name": "stdout",
     "output_type": "stream",
     "text": [
      "service 476.487976858 3359.92168417\n",
      "xe 14.355954498 406.110647721\n",
      "xk 463.563434806 2802.28529411\n"
     ]
    }
   ],
   "source": [
    "for nt in ['service', 'xe', 'xk']:\n",
    "    timevals = df[df['Node Type'] == nt]['Time'].values\n",
    "    timevals.sort()\n",
    "    diffs = timevals[1:] - timevals[:-1]\n",
    "    print (nt, diffs.mean(), diffs.std())"
   ]
  },
  {
   "cell_type": "code",
   "execution_count": null,
   "metadata": {
    "collapsed": true
   },
   "outputs": [],
   "source": []
  },
  {
   "cell_type": "code",
   "execution_count": null,
   "metadata": {
    "collapsed": true
   },
   "outputs": [],
   "source": []
  },
  {
   "cell_type": "code",
   "execution_count": null,
   "metadata": {
    "collapsed": true
   },
   "outputs": [],
   "source": []
  },
  {
   "cell_type": "code",
   "execution_count": null,
   "metadata": {
    "collapsed": true
   },
   "outputs": [],
   "source": []
  },
  {
   "cell_type": "code",
   "execution_count": null,
   "metadata": {
    "collapsed": true
   },
   "outputs": [],
   "source": []
  },
  {
   "cell_type": "code",
   "execution_count": null,
   "metadata": {
    "collapsed": true
   },
   "outputs": [],
   "source": []
  },
  {
   "cell_type": "code",
   "execution_count": null,
   "metadata": {
    "collapsed": true
   },
   "outputs": [],
   "source": []
  },
  {
   "cell_type": "code",
   "execution_count": null,
   "metadata": {
    "collapsed": true
   },
   "outputs": [],
   "source": []
  },
  {
   "cell_type": "code",
   "execution_count": null,
   "metadata": {
    "collapsed": true
   },
   "outputs": [],
   "source": []
  },
  {
   "cell_type": "code",
   "execution_count": null,
   "metadata": {
    "collapsed": true
   },
   "outputs": [],
   "source": []
  }
 ],
 "metadata": {
  "kernelspec": {
   "display_name": "Python 3",
   "language": "python",
   "name": "python3"
  },
  "language_info": {
   "codemirror_mode": {
    "name": "ipython",
    "version": 3
   },
   "file_extension": ".py",
   "mimetype": "text/x-python",
   "name": "python",
   "nbconvert_exporter": "python",
   "pygments_lexer": "ipython3",
   "version": "3.6.3"
  }
 },
 "nbformat": 4,
 "nbformat_minor": 2
}

{
 "cells": [
  {
   "cell_type": "code",
   "execution_count": 2,
   "metadata": {
    "collapsed": true
   },
   "outputs": [],
   "source": [
    "import numpy as np\n",
    "import matplotlib.pyplot as plt\n",
    "import matplotlib\n",
    "import pandas as pd"
   ]
  },
  {
   "cell_type": "markdown",
   "metadata": {},
   "source": [
    "## Read in dataset"
   ]
  },
  {
   "cell_type": "code",
   "execution_count": 3,
   "metadata": {
    "collapsed": true
   },
   "outputs": [],
   "source": [
    "month1 = pd.read_csv(\"aug13_decoded\", sep='\\t')\n",
    "month2 = pd.read_csv(\"sep13_decoded\", sep='\\t')\n",
    "\n",
    "# merge datasets into df\n",
    "df = pd.concat([month1, month2])"
   ]
  },
  {
   "cell_type": "markdown",
   "metadata": {},
   "source": [
    "## Let's inspect the dataset"
   ]
  },
  {
   "cell_type": "code",
   "execution_count": 4,
   "metadata": {},
   "outputs": [
    {
     "data": {
      "text/html": [
       "<div>\n",
       "<style>\n",
       "    .dataframe thead tr:only-child th {\n",
       "        text-align: right;\n",
       "    }\n",
       "\n",
       "    .dataframe thead th {\n",
       "        text-align: left;\n",
       "    }\n",
       "\n",
       "    .dataframe tbody tr th {\n",
       "        vertical-align: top;\n",
       "    }\n",
       "</style>\n",
       "<table border=\"1\" class=\"dataframe\">\n",
       "  <thead>\n",
       "    <tr style=\"text-align: right;\">\n",
       "      <th></th>\n",
       "      <th>NodeID</th>\n",
       "      <th>Date Time</th>\n",
       "      <th>Complete Node</th>\n",
       "      <th>Cabinet</th>\n",
       "      <th>Chassis</th>\n",
       "      <th>Slot</th>\n",
       "      <th>Node</th>\n",
       "      <th>Node Type</th>\n",
       "      <th>Processor</th>\n",
       "      <th>Time</th>\n",
       "      <th>...</th>\n",
       "      <th>Cache way in error</th>\n",
       "      <th>Syndrome</th>\n",
       "      <th>Core</th>\n",
       "      <th>Errorcode</th>\n",
       "      <th>Ext_errorcode</th>\n",
       "      <th>Error Type</th>\n",
       "      <th>Addr</th>\n",
       "      <th>Addr Desc</th>\n",
       "      <th>Errorcode Type</th>\n",
       "      <th>Misc</th>\n",
       "    </tr>\n",
       "  </thead>\n",
       "  <tbody>\n",
       "    <tr>\n",
       "      <th>0</th>\n",
       "      <td>70</td>\n",
       "      <td>2013-08-01 00:01:24</td>\n",
       "      <td>c19-7c1s7n1</td>\n",
       "      <td>19-7</td>\n",
       "      <td>1.0</td>\n",
       "      <td>7.0</td>\n",
       "      <td>1.0</td>\n",
       "      <td>xe</td>\n",
       "      <td>2:600f12</td>\n",
       "      <td>1.375333e+09</td>\n",
       "      <td>...</td>\n",
       "      <td>NaN</td>\n",
       "      <td>'110000100</td>\n",
       "      <td>0.0</td>\n",
       "      <td>'100001011</td>\n",
       "      <td>'11100</td>\n",
       "      <td>L3 Cache Data Error, Single bit Error, Cache W...</td>\n",
       "      <td>0d1c4</td>\n",
       "      <td>Physical</td>\n",
       "      <td>mem</td>\n",
       "      <td>c00a000001000000</td>\n",
       "    </tr>\n",
       "    <tr>\n",
       "      <th>1</th>\n",
       "      <td>70</td>\n",
       "      <td>2013-08-01 00:05:46</td>\n",
       "      <td>c17-0c1s7n0</td>\n",
       "      <td>17-0</td>\n",
       "      <td>1.0</td>\n",
       "      <td>7.0</td>\n",
       "      <td>0.0</td>\n",
       "      <td>xk</td>\n",
       "      <td>2:600f12</td>\n",
       "      <td>1.375334e+09</td>\n",
       "      <td>...</td>\n",
       "      <td>NaN</td>\n",
       "      <td>'100101110</td>\n",
       "      <td>NaN</td>\n",
       "      <td>'100000010011</td>\n",
       "      <td>'1000</td>\n",
       "      <td>ECC Error</td>\n",
       "      <td>44bd7910</td>\n",
       "      <td>Physical</td>\n",
       "      <td>bus</td>\n",
       "      <td>c00a002f01000000</td>\n",
       "    </tr>\n",
       "    <tr>\n",
       "      <th>2</th>\n",
       "      <td>70</td>\n",
       "      <td>2013-08-01 00:06:24</td>\n",
       "      <td>c12-7c2s6n1</td>\n",
       "      <td>12-7</td>\n",
       "      <td>2.0</td>\n",
       "      <td>6.0</td>\n",
       "      <td>1.0</td>\n",
       "      <td>xe</td>\n",
       "      <td>2:600f12</td>\n",
       "      <td>1.375334e+09</td>\n",
       "      <td>...</td>\n",
       "      <td>NaN</td>\n",
       "      <td>'1110110100100000</td>\n",
       "      <td>NaN</td>\n",
       "      <td>'101000010011</td>\n",
       "      <td>'1000</td>\n",
       "      <td>ECC Error</td>\n",
       "      <td>483b3e350</td>\n",
       "      <td>Physical</td>\n",
       "      <td>bus</td>\n",
       "      <td>c00a000101000000</td>\n",
       "    </tr>\n",
       "    <tr>\n",
       "      <th>3</th>\n",
       "      <td>70</td>\n",
       "      <td>2013-08-01 00:06:24</td>\n",
       "      <td>c10-9c0s7n3</td>\n",
       "      <td>10-9</td>\n",
       "      <td>0.0</td>\n",
       "      <td>7.0</td>\n",
       "      <td>3.0</td>\n",
       "      <td>xe</td>\n",
       "      <td>2:600f12</td>\n",
       "      <td>1.375334e+09</td>\n",
       "      <td>...</td>\n",
       "      <td>NaN</td>\n",
       "      <td>'10</td>\n",
       "      <td>7.0</td>\n",
       "      <td>'100011011</td>\n",
       "      <td>'11100</td>\n",
       "      <td>L3 Cache Data Error, Single bit Error, Cache W...</td>\n",
       "      <td>411bf0e44</td>\n",
       "      <td>Physical</td>\n",
       "      <td>mem</td>\n",
       "      <td>c00a000001000000</td>\n",
       "    </tr>\n",
       "    <tr>\n",
       "      <th>4</th>\n",
       "      <td>70</td>\n",
       "      <td>2013-08-01 00:06:27</td>\n",
       "      <td>c19-5c2s3n3</td>\n",
       "      <td>19-5</td>\n",
       "      <td>2.0</td>\n",
       "      <td>3.0</td>\n",
       "      <td>3.0</td>\n",
       "      <td>xe</td>\n",
       "      <td>2:600f12</td>\n",
       "      <td>1.375334e+09</td>\n",
       "      <td>...</td>\n",
       "      <td>NaN</td>\n",
       "      <td>'1001110100000001</td>\n",
       "      <td>NaN</td>\n",
       "      <td>'101000010011</td>\n",
       "      <td>'1000</td>\n",
       "      <td>ECC Error</td>\n",
       "      <td>4854e0c40</td>\n",
       "      <td>Physical</td>\n",
       "      <td>bus</td>\n",
       "      <td>c00a000101000000</td>\n",
       "    </tr>\n",
       "  </tbody>\n",
       "</table>\n",
       "<p>5 rows × 36 columns</p>\n",
       "</div>"
      ],
      "text/plain": [
       "   NodeID            Date Time Complete Node Cabinet  Chassis  Slot  Node  \\\n",
       "0      70  2013-08-01 00:01:24   c19-7c1s7n1    19-7      1.0   7.0   1.0   \n",
       "1      70  2013-08-01 00:05:46   c17-0c1s7n0    17-0      1.0   7.0   0.0   \n",
       "2      70  2013-08-01 00:06:24   c12-7c2s6n1    12-7      2.0   6.0   1.0   \n",
       "3      70  2013-08-01 00:06:24   c10-9c0s7n3    10-9      0.0   7.0   3.0   \n",
       "4      70  2013-08-01 00:06:27   c19-5c2s3n3    19-5      2.0   3.0   3.0   \n",
       "\n",
       "  Node Type  Processor          Time        ...         Cache way in error  \\\n",
       "0        xe  2:600f12   1.375333e+09        ...                        NaN   \n",
       "1        xk  2:600f12   1.375334e+09        ...                        NaN   \n",
       "2        xe  2:600f12   1.375334e+09        ...                        NaN   \n",
       "3        xe  2:600f12   1.375334e+09        ...                        NaN   \n",
       "4        xe  2:600f12   1.375334e+09        ...                        NaN   \n",
       "\n",
       "            Syndrome  Core      Errorcode  Ext_errorcode  \\\n",
       "0         '110000100   0.0     '100001011         '11100   \n",
       "1         '100101110   NaN  '100000010011          '1000   \n",
       "2  '1110110100100000   NaN  '101000010011          '1000   \n",
       "3                '10   7.0     '100011011         '11100   \n",
       "4  '1001110100000001   NaN  '101000010011          '1000   \n",
       "\n",
       "                                          Error Type       Addr  Addr Desc  \\\n",
       "0  L3 Cache Data Error, Single bit Error, Cache W...      0d1c4   Physical   \n",
       "1                                          ECC Error   44bd7910   Physical   \n",
       "2                                          ECC Error  483b3e350   Physical   \n",
       "3  L3 Cache Data Error, Single bit Error, Cache W...  411bf0e44   Physical   \n",
       "4                                          ECC Error  4854e0c40   Physical   \n",
       "\n",
       "   Errorcode Type              Misc  \n",
       "0             mem  c00a000001000000  \n",
       "1             bus  c00a002f01000000  \n",
       "2             bus  c00a000101000000  \n",
       "3             mem  c00a000001000000  \n",
       "4             bus  c00a000101000000  \n",
       "\n",
       "[5 rows x 36 columns]"
      ]
     },
     "execution_count": 4,
     "metadata": {},
     "output_type": "execute_result"
    }
   ],
   "source": [
    "df.head()"
   ]
  },
  {
   "cell_type": "code",
   "execution_count": 5,
   "metadata": {},
   "outputs": [
    {
     "data": {
      "text/plain": [
       "Index(['NodeID', 'Date Time', 'Complete Node', 'Cabinet', 'Chassis', 'Slot',\n",
       "       'Node', 'Node Type', 'Processor', 'Time', 'Socket', 'Apic', 'Bank',\n",
       "       'Err Val', 'OV', 'UC', 'PCC', 'CECC', 'UECC', 'DEF', 'POISON',\n",
       "       'L3 Subcache', 'Sub Link', 'LDT Link', 'Scrub', 'Link',\n",
       "       'Cache way in error', 'Syndrome', 'Core', 'Errorcode', 'Ext_errorcode',\n",
       "       'Error Type', 'Addr', 'Addr Desc', 'Errorcode Type', 'Misc'],\n",
       "      dtype='object')"
      ]
     },
     "execution_count": 5,
     "metadata": {},
     "output_type": "execute_result"
    }
   ],
   "source": [
    "df.keys()"
   ]
  },
  {
   "cell_type": "code",
   "execution_count": 6,
   "metadata": {},
   "outputs": [
    {
     "name": "stdout",
     "output_type": "stream",
     "text": [
      "xe                     367250\n",
      "xk                      11372\n",
      "service                 11064\n",
      "service_not_present      9759\n",
      "Name: Node Type, dtype: int64\n"
     ]
    }
   ],
   "source": [
    "# J: how do these columns look?\n",
    "# df['UECC'].value_counts()\n",
    "print(df['Node Type'].value_counts())\n"
   ]
  },
  {
   "cell_type": "markdown",
   "metadata": {},
   "source": [
    "## Looks like we have some timestamps in the 'Time' column.\n",
    "## Let's convert these to human readable timestamps"
   ]
  },
  {
   "cell_type": "code",
   "execution_count": 7,
   "metadata": {
    "collapsed": true
   },
   "outputs": [],
   "source": [
    "df['datetime'] = pd.to_datetime(df['Time'], unit='s')\n",
    "df['datetime'] = df['datetime'].dt.tz_localize('America/Chicago', ambiguous=True)\n"
   ]
  },
  {
   "cell_type": "code",
   "execution_count": 8,
   "metadata": {},
   "outputs": [
    {
     "name": "stdout",
     "output_type": "stream",
     "text": [
      "1970-01-01 00:00:01-06:00\n",
      "2013-10-01 04:58:06-05:00\n"
     ]
    }
   ],
   "source": [
    "print(min(df['datetime']))\n",
    "print(max(df['datetime']))"
   ]
  },
  {
   "cell_type": "markdown",
   "metadata": {},
   "source": [
    "## Hmm, we shouldn't have timestamps from 1970. This is probably bad data.\n",
    "## Let's filter out these bad entries"
   ]
  },
  {
   "cell_type": "code",
   "execution_count": 9,
   "metadata": {},
   "outputs": [
    {
     "name": "stdout",
     "output_type": "stream",
     "text": [
      "0         1.375333e+09\n",
      "1         1.375334e+09\n",
      "2         1.375334e+09\n",
      "3         1.375334e+09\n",
      "4         1.375334e+09\n",
      "5         1.375334e+09\n",
      "6         1.375334e+09\n",
      "7         1.375334e+09\n",
      "8         1.375334e+09\n",
      "9         1.375335e+09\n",
      "10        1.375331e+09\n",
      "11        1.375331e+09\n",
      "12        1.375331e+09\n",
      "13        1.375331e+09\n",
      "14        1.375331e+09\n",
      "15        1.375331e+09\n",
      "16        1.375331e+09\n",
      "17        1.375331e+09\n",
      "18        1.375331e+09\n",
      "19        1.375331e+09\n",
      "20        1.375331e+09\n",
      "21        1.375331e+09\n",
      "22        1.375331e+09\n",
      "23        1.375331e+09\n",
      "24        1.375331e+09\n",
      "25        1.375331e+09\n",
      "26        1.375331e+09\n",
      "27        1.375331e+09\n",
      "28        1.375331e+09\n",
      "29        1.375331e+09\n",
      "              ...     \n",
      "184598    1.380603e+09\n",
      "184599    1.380603e+09\n",
      "184600    1.380603e+09\n",
      "184601    1.380603e+09\n",
      "184602    1.380599e+09\n",
      "184603    1.380599e+09\n",
      "184604    1.380599e+09\n",
      "184605    1.380599e+09\n",
      "184606    1.380599e+09\n",
      "184607    1.380599e+09\n",
      "184608    1.380599e+09\n",
      "184609    1.380599e+09\n",
      "184610    1.380599e+09\n",
      "184611    1.380599e+09\n",
      "184612    1.380599e+09\n",
      "184613    1.380599e+09\n",
      "184614    1.380599e+09\n",
      "184615    1.380599e+09\n",
      "184616    1.380599e+09\n",
      "184617    1.380599e+09\n",
      "184618    1.380603e+09\n",
      "184619    1.380603e+09\n",
      "184620    1.380603e+09\n",
      "184621    1.380603e+09\n",
      "184622    1.380603e+09\n",
      "184623    1.380603e+09\n",
      "184624    1.380600e+09\n",
      "184625    1.380600e+09\n",
      "184626    1.380603e+09\n",
      "184627    1.380603e+09\n",
      "Name: Time, Length: 399445, dtype: float64\n"
     ]
    }
   ],
   "source": [
    "# J: checking data values\n",
    "print(df['Time'])"
   ]
  },
  {
   "cell_type": "code",
   "execution_count": 10,
   "metadata": {
    "collapsed": true
   },
   "outputs": [],
   "source": [
    "# keep entries between July 31st and Oct 2nd\n",
    "df = df[(1375272000 < df['Time']) & (df['Time'] < 1380715200)]\n",
    "\n",
    "# If you open up the datasets in a text editor, you'll see that \n",
    "# Node Type entries with 'service_not_present' have incomplete information\n",
    "df = df[df['Node Type'] != 'service_not_present']"
   ]
  },
  {
   "cell_type": "code",
   "execution_count": 11,
   "metadata": {},
   "outputs": [
    {
     "name": "stdout",
     "output_type": "stream",
     "text": [
      "0              xe\n",
      "1              xk\n",
      "2              xe\n",
      "3              xe\n",
      "4              xe\n",
      "5              xk\n",
      "6              xk\n",
      "7              xk\n",
      "8              xk\n",
      "9              xk\n",
      "13        service\n",
      "14        service\n",
      "16        service\n",
      "17        service\n",
      "19        service\n",
      "20        service\n",
      "22        service\n",
      "23        service\n",
      "25        service\n",
      "26        service\n",
      "28        service\n",
      "29        service\n",
      "31        service\n",
      "32        service\n",
      "33        service\n",
      "34        service\n",
      "35             xe\n",
      "36             xk\n",
      "37             xk\n",
      "38             xe\n",
      "           ...   \n",
      "184598         xe\n",
      "184599         xe\n",
      "184600         xe\n",
      "184601         xe\n",
      "184602         xe\n",
      "184603         xe\n",
      "184604         xe\n",
      "184605         xe\n",
      "184606         xe\n",
      "184607         xe\n",
      "184608         xe\n",
      "184609         xe\n",
      "184610         xe\n",
      "184611         xe\n",
      "184612         xe\n",
      "184613         xe\n",
      "184614         xe\n",
      "184615         xe\n",
      "184616         xe\n",
      "184617         xe\n",
      "184618         xe\n",
      "184619         xe\n",
      "184620         xe\n",
      "184621         xe\n",
      "184622         xe\n",
      "184623         xe\n",
      "184624         xe\n",
      "184625         xe\n",
      "184626         xe\n",
      "184627         xe\n",
      "Name: Node Type, Length: 389624, dtype: object\n"
     ]
    }
   ],
   "source": [
    "print(df['Node Type'])"
   ]
  },
  {
   "cell_type": "code",
   "execution_count": 12,
   "metadata": {},
   "outputs": [
    {
     "name": "stdout",
     "output_type": "stream",
     "text": [
      "2013-08-01 04:26:05-05:00\n",
      "2013-10-01 04:58:06-05:00\n"
     ]
    }
   ],
   "source": [
    "print(min(df['datetime']))\n",
    "print(max(df['datetime']))"
   ]
  },
  {
   "cell_type": "markdown",
   "metadata": {},
   "source": [
    "## Much better"
   ]
  },
  {
   "cell_type": "markdown",
   "metadata": {},
   "source": [
    "## Task 0 - Let's count some columns\n"
   ]
  },
  {
   "cell_type": "code",
   "execution_count": 13,
   "metadata": {},
   "outputs": [
    {
     "data": {
      "text/plain": [
       "389624"
      ]
     },
     "execution_count": 13,
     "metadata": {},
     "output_type": "execute_result"
    }
   ],
   "source": [
    "# total number of entries\n",
    "len(df)"
   ]
  },
  {
   "cell_type": "code",
   "execution_count": 14,
   "metadata": {},
   "outputs": [
    {
     "data": {
      "text/plain": [
       "6222"
      ]
     },
     "execution_count": 14,
     "metadata": {},
     "output_type": "execute_result"
    }
   ],
   "source": [
    "# number of nodes\n",
    "len(df['Complete Node'].unique())"
   ]
  },
  {
   "cell_type": "code",
   "execution_count": 15,
   "metadata": {},
   "outputs": [
    {
     "data": {
      "text/plain": [
       "60"
      ]
     },
     "execution_count": 15,
     "metadata": {},
     "output_type": "execute_result"
    }
   ],
   "source": [
    "# number of days\n",
    "# normalize() sets the time to 00:00:00 giving us only the date portion of the timestamp/\n",
    "len(df['datetime'].dt.normalize().unique())"
   ]
  },
  {
   "cell_type": "code",
   "execution_count": 16,
   "metadata": {},
   "outputs": [
    {
     "data": {
      "text/plain": [
       "array(['xe', 'xk', 'service'], dtype=object)"
      ]
     },
     "execution_count": 16,
     "metadata": {},
     "output_type": "execute_result"
    }
   ],
   "source": [
    "# node types\n",
    "df['Node Type'].unique()"
   ]
  },
  {
   "cell_type": "code",
   "execution_count": 17,
   "metadata": {},
   "outputs": [
    {
     "data": {
      "text/plain": [
       "c13-4c0s2n0     20738\n",
       "c18-7c1s2n3     20671\n",
       "c21-5c0s3n0     20601\n",
       "c0-11c2s3n1     20570\n",
       "c1-3c2s7n1      19398\n",
       "c16-9c2s2n0     14425\n",
       "c8-0c1s7n3      10451\n",
       "c13-7c0s6n1      9188\n",
       "c16-11c2s3n3     9115\n",
       "c22-10c1s3n2     7147\n",
       "c5-4c2s3n3       6619\n",
       "c8-6c2s7n3       6489\n",
       "c13-9c0s1n0      5987\n",
       "c17-3c2s2n3      5745\n",
       "c22-8c2s5n0      5708\n",
       "c3-8c0s4n3       5189\n",
       "c9-1c1s1n0       5034\n",
       "c3-7c0s5n3       4813\n",
       "c7-8c1s0n1       4012\n",
       "c19-5c2s7n1      3589\n",
       "c5-3c0s5n1       3168\n",
       "c7-10c2s1n1      2984\n",
       "c6-11c2s0n2      2965\n",
       "c5-5c1s0n2       2883\n",
       "c13-11c2s3n1     2758\n",
       "c7-11c1s2n1      2598\n",
       "c19-9c2s7n0      2520\n",
       "c3-0c2s7n3       2449\n",
       "c7-8c1s4n2       2342\n",
       "c15-3c2s7n1      2270\n",
       "                ...  \n",
       "c8-1c2s4n2          1\n",
       "c21-7c2s1n0         1\n",
       "c16-9c0s4n2         1\n",
       "c3-8c0s6n1          1\n",
       "c21-5c1s4n2         1\n",
       "c22-7c2s4n3         1\n",
       "c13-6c1s7n2         1\n",
       "c11-9c2s0n0         1\n",
       "c6-5c2s6n0          1\n",
       "c21-5c0s0n2         1\n",
       "c3-8c2s0n3          1\n",
       "c2-2c0s5n0          1\n",
       "c5-11c2s1n3         1\n",
       "c14-4c0s6n1         1\n",
       "c15-6c2s0n0         1\n",
       "c0-0c0s6n0          1\n",
       "c13-11c0s4n0        1\n",
       "c0-1c0s6n1          1\n",
       "c18-6c2s5n1         1\n",
       "c10-3c2s7n1         1\n",
       "c15-0c1s4n2         1\n",
       "c2-6c2s0n1          1\n",
       "c18-5c1s3n1         1\n",
       "c2-7c0s4n2          1\n",
       "c15-4c2s2n3         1\n",
       "c17-5c0s0n2         1\n",
       "c8-0c1s5n2          1\n",
       "c1-11c1s7n1         1\n",
       "c0-11c2s7n2         1\n",
       "c20-5c2s3n2         1\n",
       "Name: Complete Node, Length: 6222, dtype: int64"
      ]
     },
     "execution_count": 17,
     "metadata": {},
     "output_type": "execute_result"
    }
   ],
   "source": [
    "df['Complete Node'].value_counts()\n",
    "\n",
    "# don't forget to represent this data as a box plot"
   ]
  },
  {
   "cell_type": "code",
   "execution_count": 18,
   "metadata": {},
   "outputs": [
    {
     "data": {
      "text/plain": [
       "(13.526413995067026, 8039.182077463628)"
      ]
     },
     "execution_count": 18,
     "metadata": {},
     "output_type": "execute_result"
    }
   ],
   "source": [
    "#BEFORE\n",
    "\n",
    "timevals = df['Time'].values\n",
    "\n",
    "# this finds the difference between consecutive values in timevals\n",
    "diffs = timevals[1:] - timevals[:-1]\n",
    "diffs.mean(), diffs.std()"
   ]
  },
  {
   "cell_type": "code",
   "execution_count": 19,
   "metadata": {
    "scrolled": false
   },
   "outputs": [
    {
     "name": "stdout",
     "output_type": "stream",
     "text": [
      "DONE\n"
     ]
    }
   ],
   "source": [
    "df2 = df.sort_values(by=['Time']);\n",
    "print(\"DONE\")"
   ]
  },
  {
   "cell_type": "code",
   "execution_count": 20,
   "metadata": {},
   "outputs": [
    {
     "data": {
      "text/plain": [
       "(13.531852585704643, 391.64892543726364)"
      ]
     },
     "execution_count": 20,
     "metadata": {},
     "output_type": "execute_result"
    }
   ],
   "source": [
    "# AFTER sorted by time\n",
    "timevals = df2['Time'].values\n",
    "\n",
    "# this finds the difference between consecutive values in timevals\n",
    "diffs = timevals[1:] - timevals[:-1]\n",
    "diffs.mean(), diffs.std()\n"
   ]
  },
  {
   "cell_type": "code",
   "execution_count": null,
   "metadata": {
    "collapsed": true
   },
   "outputs": [],
   "source": []
  },
  {
   "cell_type": "code",
   "execution_count": 21,
   "metadata": {},
   "outputs": [
    {
     "name": "stdout",
     "output_type": "stream",
     "text": [
      "service 476.487976858 3359.92168417\n",
      "xe 14.355954498 406.110647721\n",
      "xk 463.563434806 2802.28529411\n"
     ]
    }
   ],
   "source": [
    "for nt in ['service', 'xe', 'xk']:\n",
    "    timevals = df2[df2['Node Type'] == nt]['Time'].values\n",
    "    timevals.sort()\n",
    "    diffs = timevals[1:] - timevals[:-1]\n",
    "    print (nt, diffs.mean(), diffs.std())"
   ]
  },
  {
   "cell_type": "code",
   "execution_count": 22,
   "metadata": {},
   "outputs": [
    {
     "data": {
      "text/plain": [
       "NodeID                7\n",
       "Date Time             7\n",
       "Complete Node         7\n",
       "Cabinet               7\n",
       "Chassis               7\n",
       "Slot                  7\n",
       "Node                  7\n",
       "Node Type             7\n",
       "Processor             7\n",
       "Time                  7\n",
       "Socket                7\n",
       "Apic                  7\n",
       "Bank                  7\n",
       "Err Val               7\n",
       "OV                    7\n",
       "UC                    7\n",
       "PCC                   7\n",
       "CECC                  7\n",
       "UECC                  7\n",
       "DEF                   0\n",
       "POISON                0\n",
       "L3 Subcache           7\n",
       "Sub Link              7\n",
       "LDT Link              0\n",
       "Scrub                 7\n",
       "Link                  7\n",
       "Cache way in error    0\n",
       "Syndrome              7\n",
       "Core                  7\n",
       "Errorcode             7\n",
       "Ext_errorcode         7\n",
       "Error Type            4\n",
       "Addr                  7\n",
       "Addr Desc             1\n",
       "Errorcode Type        7\n",
       "Misc                  7\n",
       "datetime              7\n",
       "dtype: int64"
      ]
     },
     "execution_count": 22,
     "metadata": {},
     "output_type": "execute_result"
    }
   ],
   "source": [
    "df[df['UECC'] == 1].count()"
   ]
  },
  {
   "cell_type": "code",
   "execution_count": 23,
   "metadata": {},
   "outputs": [
    {
     "data": {
      "text/plain": [
       "NodeID                6\n",
       "Date Time             6\n",
       "Complete Node         6\n",
       "Cabinet               6\n",
       "Chassis               6\n",
       "Slot                  6\n",
       "Node                  6\n",
       "Node Type             6\n",
       "Processor             6\n",
       "Time                  6\n",
       "Socket                6\n",
       "Apic                  6\n",
       "Bank                  6\n",
       "Err Val               6\n",
       "OV                    6\n",
       "UC                    6\n",
       "PCC                   6\n",
       "CECC                  6\n",
       "UECC                  6\n",
       "DEF                   0\n",
       "POISON                0\n",
       "L3 Subcache           6\n",
       "Sub Link              6\n",
       "LDT Link              0\n",
       "Scrub                 6\n",
       "Link                  6\n",
       "Cache way in error    0\n",
       "Syndrome              6\n",
       "Core                  6\n",
       "Errorcode             6\n",
       "Ext_errorcode         6\n",
       "Error Type            3\n",
       "Addr                  6\n",
       "Addr Desc             0\n",
       "Errorcode Type        6\n",
       "Misc                  6\n",
       "datetime              6\n",
       "dtype: int64"
      ]
     },
     "execution_count": 23,
     "metadata": {},
     "output_type": "execute_result"
    }
   ],
   "source": [
    "df[(df['UECC'] == 1) & (df['UC'] == 0)].count()"
   ]
  },
  {
   "cell_type": "markdown",
   "metadata": {},
   "source": [
    "There are 6 errors that were both UECC = 1 (Uncorrectable ECC/Chipkill error) and UC = 0 (Error Uncorrected) which means they were uncorrected uncorrectable errors."
   ]
  },
  {
   "cell_type": "markdown",
   "metadata": {},
   "source": [
    "From lecture 4 presentation, slide 5:\n",
    "\n",
    "ERROR:\n",
    "\"Upon activation (invoking the faulty\n",
    "component by applying an input) the fault\n",
    "becomes active and produces an error\"\n",
    "\"Upon activation the fault become active and\n",
    "produces an error\"\n",
    "\n",
    "FAILURE:\n",
    "\"If and when this faulty value is used (i.e the\n",
    "memory location is activated - the error\n",
    "affects the delivered service (e.g.,\n",
    "information content), a failure occurs\"\n",
    "\"When the error affects the delivered service , a\n",
    "failure occurs\""
   ]
  },
  {
   "cell_type": "code",
   "execution_count": 24,
   "metadata": {},
   "outputs": [
    {
     "name": "stdout",
     "output_type": "stream",
     "text": [
      "[  450.   150.    75. ...,  1997.   150.   615.]\n",
      "float64\n",
      "float64\n"
     ]
    }
   ],
   "source": [
    "print(diffs)\n",
    "print(diffs[0].dtype)\n",
    "print(diffs.dtype)\n"
   ]
  },
  {
   "cell_type": "code",
   "execution_count": null,
   "metadata": {
    "collapsed": true
   },
   "outputs": [],
   "source": []
  },
  {
   "cell_type": "code",
   "execution_count": 25,
   "metadata": {},
   "outputs": [
    {
     "name": "stdout",
     "output_type": "stream",
     "text": [
      "[  0.00000000e+00   1.00000000e+00   2.00000000e+00 ...,   5.56510000e+04\n",
      "   6.54780000e+04   2.38230000e+05]\n",
      "[1743  834  446 ...,    1    1    1]\n"
     ]
    }
   ],
   "source": [
    "unique, counts = np.unique(diffs, return_counts=True)\n",
    "print(unique)\n",
    "print(counts)\n"
   ]
  },
  {
   "cell_type": "code",
   "execution_count": 26,
   "metadata": {},
   "outputs": [
    {
     "name": "stdout",
     "output_type": "stream",
     "text": [
      "1585\n",
      "1585\n",
      "11366\n"
     ]
    }
   ],
   "source": [
    "print(len(unique))\n",
    "print(len(counts))\n",
    "print(len(diffs))"
   ]
  },
  {
   "cell_type": "code",
   "execution_count": 27,
   "metadata": {},
   "outputs": [
    {
     "name": "stdout",
     "output_type": "stream",
     "text": [
      "[1743  834  446 ...,    1    1    1]\n"
     ]
    }
   ],
   "source": [
    "print(counts)\n"
   ]
  },
  {
   "cell_type": "code",
   "execution_count": 28,
   "metadata": {},
   "outputs": [
    {
     "data": {
      "text/plain": [
       "11366"
      ]
     },
     "execution_count": 28,
     "metadata": {},
     "output_type": "execute_result"
    }
   ],
   "source": [
    "np.sum(counts)"
   ]
  },
  {
   "cell_type": "code",
   "execution_count": 29,
   "metadata": {
    "collapsed": true
   },
   "outputs": [],
   "source": [
    "probs = counts/len(diffs)"
   ]
  },
  {
   "cell_type": "code",
   "execution_count": 30,
   "metadata": {},
   "outputs": [
    {
     "name": "stdout",
     "output_type": "stream",
     "text": [
      "[  1.53352103e-01   7.33767376e-02   3.92398381e-02 ...,   8.79816998e-05\n",
      "   8.79816998e-05   8.79816998e-05]\n"
     ]
    }
   ],
   "source": [
    "print(probs)"
   ]
  },
  {
   "cell_type": "code",
   "execution_count": 31,
   "metadata": {},
   "outputs": [
    {
     "data": {
      "image/png": "[encoded data removed]",
      "text/plain": [
       "<matplotlib.figure.Figure at 0x11c61b198>"
      ]
     },
     "metadata": {},
     "output_type": "display_data"
    }
   ],
   "source": [
    "import matplotlib.pyplot as plt\n",
    "plt.plot(unique, counts, 'ro')\n",
    "\n",
    "# plt.axis([0, 6, 0, 20])\n",
    "plt.show()"
   ]
  },
  {
   "cell_type": "code",
   "execution_count": 32,
   "metadata": {},
   "outputs": [
    {
     "data": {
      "image/png": "[encoded data removed]",
      "text/plain": [
       "<matplotlib.figure.Figure at 0x10d287e10>"
      ]
     },
     "metadata": {},
     "output_type": "display_data"
    }
   ],
   "source": [
    "import matplotlib.pyplot as plt\n",
    "plt.semilogx(unique, probs, 'ro')\n",
    "\n",
    "# plt.axis([0, 6, 0, 20])\n",
    "plt.show()"
   ]
  },
  {
   "cell_type": "markdown",
   "metadata": {},
   "source": [
    "The pdf of Time to MCE Distribution demonstates a Weibull Distribution with a Beta value < 1.\n",
    "\n",
    "Resource: http://www.weibull.com/hotwire/issue14/relbasics14.htm"
   ]
  },
  {
   "cell_type": "code",
   "execution_count": 33,
   "metadata": {},
   "outputs": [
    {
     "name": "stdout",
     "output_type": "stream",
     "text": [
      "Percentage of MCEs caused by memory errors = 38.56%\n"
     ]
    }
   ],
   "source": [
    "# Percentage of MCEs caused by memory errors\n",
    "\n",
    "subset = df[df['Errorcode Type'] == 'mem']\n",
    "len(subset)\n",
    "len(df)\n",
    "percentage = len(subset)/len(df)\n",
    "print('Percentage of MCEs caused by memory errors = {:.2f}%'.format(100*percentage))"
   ]
  },
  {
   "cell_type": "code",
   "execution_count": 34,
   "metadata": {},
   "outputs": [
    {
     "name": "stderr",
     "output_type": "stream",
     "text": [
      "/anaconda3/lib/python3.6/site-packages/pandas/core/indexing.py:179: SettingWithCopyWarning: \n",
      "A value is trying to be set on a copy of a slice from a DataFrame\n",
      "\n",
      "See the caveats in the documentation: http://pandas.pydata.org/pandas-docs/stable/indexing.html#indexing-view-versus-copy\n",
      "  self._setitem_with_indexer(indexer, value)\n"
     ]
    },
    {
     "data": {
      "text/plain": [
       "array(['L3 Cache Error', 'ECC Error', 'Probe Filter Error',\n",
       "       'L2 Cache Error', 'Instruction Cache Error', nan, 'Reserved',\n",
       "       'DataCopyBack_Evict', 'Internal Error : IDRF Array Parity',\n",
       "       'TLB : TLbpar', 'Data Cache Error : Data Array', 'Line Fill Error'], dtype=object)"
      ]
     },
     "execution_count": 34,
     "metadata": {},
     "output_type": "execute_result"
    }
   ],
   "source": [
    "df['Error Type'].loc[df['Error Type'].str.contains('L3') == True] = 'L3 Cache Error'\n",
    "df['Error Type'].loc[df['Error Type'].str.contains('L2') == True] = 'L2 Cache Error'\n",
    "df['Error Type'].loc[df['Error Type'].str.contains('Probe') == True] = 'Probe Filter Error'\n",
    "df['Error Type'].loc[df['Error Type'].str.contains('Instruction') == True] = 'Instruction Cache Error'\n",
    "df['Error Type'].unique()"
   ]
  },
  {
   "cell_type": "code",
   "execution_count": 35,
   "metadata": {},
   "outputs": [
    {
     "name": "stdout",
     "output_type": "stream",
     "text": [
      "ECC Error                             239322\n",
      "L3 Cache Error                         85184\n",
      "Probe Filter Error                     53338\n",
      "L2 Cache Error                          7111\n",
      "Instruction Cache Error                 1790\n",
      "Reserved                                  38\n",
      "Data Cache Error : Data Array              5\n",
      "DataCopyBack_Evict                         4\n",
      "TLB : TLbpar                               3\n",
      "Internal Error : IDRF Array Parity         1\n",
      "Line Fill Error                            1\n",
      "Name: Error Type, dtype: int64\n"
     ]
    },
    {
     "data": {
      "image/png": "[encoded data removed]",
      "text/plain": [
       "<matplotlib.figure.Figure at 0x111786630>"
      ]
     },
     "metadata": {},
     "output_type": "display_data"
    }
   ],
   "source": [
    "errors = df['Error Type'].value_counts()\n",
    "print(errors)\n",
    "errors.plot(kind='bar', title='Error Types (entire dataset)')\n",
    "plt.show()"
   ]
  },
  {
   "cell_type": "code",
   "execution_count": 36,
   "metadata": {},
   "outputs": [
    {
     "name": "stdout",
     "output_type": "stream",
     "text": [
      "ECC Error                             217420\n",
      "L3 Cache Error                         84862\n",
      "Probe Filter Error                     53297\n",
      "L2 Cache Error                          6972\n",
      "Instruction Cache Error                 1779\n",
      "Reserved                                  37\n",
      "Data Cache Error : Data Array              5\n",
      "TLB : TLbpar                               3\n",
      "Internal Error : IDRF Array Parity         1\n",
      "Line Fill Error                            1\n",
      "Name: Error Type, dtype: int64\n"
     ]
    },
    {
     "data": {
      "image/png": "[encoded data removed]",
      "text/plain": [
       "<matplotlib.figure.Figure at 0x1116f5c88>"
      ]
     },
     "metadata": {},
     "output_type": "display_data"
    }
   ],
   "source": [
    "subset = df[df['Node Type'] == 'xe']\n",
    "errors = subset['Error Type'].value_counts()\n",
    "print(errors)\n",
    "errors.plot(kind='bar', title='Error Types (XE)')\n",
    "plt.show()"
   ]
  },
  {
   "cell_type": "code",
   "execution_count": 37,
   "metadata": {},
   "outputs": [
    {
     "name": "stdout",
     "output_type": "stream",
     "text": [
      "ECC Error                  10886\n",
      "L3 Cache Error               285\n",
      "L2 Cache Error               136\n",
      "Probe Filter Error            41\n",
      "Instruction Cache Error       11\n",
      "Reserved                       1\n",
      "DataCopyBack_Evict             1\n",
      "Name: Error Type, dtype: int64\n"
     ]
    },
    {
     "data": {
      "image/png": "[encoded data removed]",
      "text/plain": [
       "<matplotlib.figure.Figure at 0x1117ada90>"
      ]
     },
     "metadata": {},
     "output_type": "display_data"
    }
   ],
   "source": [
    "subset = df[df['Node Type'] == 'xk']\n",
    "errors = subset['Error Type'].value_counts()\n",
    "print(errors)\n",
    "errors.plot(kind='bar', title='Error Types (XK)')\n",
    "plt.show()"
   ]
  },
  {
   "cell_type": "code",
   "execution_count": 38,
   "metadata": {},
   "outputs": [
    {
     "name": "stdout",
     "output_type": "stream",
     "text": [
      "ECC Error             11016\n",
      "L3 Cache Error           37\n",
      "L2 Cache Error            3\n",
      "DataCopyBack_Evict        3\n",
      "Name: Error Type, dtype: int64\n"
     ]
    },
    {
     "data": {
      "image/png": "[encoded data removed]",
      "text/plain": [
       "<matplotlib.figure.Figure at 0x111828160>"
      ]
     },
     "metadata": {},
     "output_type": "display_data"
    }
   ],
   "source": [
    "subset = df[df['Node Type'] == 'service']\n",
    "errors = subset['Error Type'].value_counts()\n",
    "print(errors)\n",
    "errors.plot(kind='bar', title='Error Types (Service)')\n",
    "plt.show()"
   ]
  },
  {
   "cell_type": "code",
   "execution_count": 39,
   "metadata": {},
   "outputs": [
    {
     "name": "stderr",
     "output_type": "stream",
     "text": [
      "/anaconda3/lib/python3.6/site-packages/ipykernel_launcher.py:3: DeprecationWarning: parsing timezone aware datetimes is deprecated; this will raise an error in the future\n",
      "  This is separate from the ipykernel package so we can avoid doing imports until\n"
     ]
    },
    {
     "data": {
      "image/png": "[encoded data removed]",
      "text/plain": [
       "<matplotlib.figure.Figure at 0x111301cf8>"
      ]
     },
     "metadata": {},
     "output_type": "display_data"
    }
   ],
   "source": [
    "uncorrectable = df[(df['UECC'] == 1) & (df['UC'] == 1)]\n",
    "ttf = uncorrectable['datetime'] - df['datetime'].iloc[0]\n",
    "ttf = uncorrectable['datetime'].values[0] - np.datetime64(df['datetime'].iloc[0].to_pydatetime())\n",
    "ttf.astype('timedelta64[s]')\n",
    "plt.bar(['1'], [227904])\n",
    "plt.xlabel('Instances')\n",
    "plt.title('Time to Failure')\n",
    "plt.ylabel('Time (s)')\n",
    "plt.show()"
   ]
  },
  {
   "cell_type": "code",
   "execution_count": 41,
   "metadata": {},
   "outputs": [],
   "source": [
    "fname = 'syndrome_x8.txt'\n",
    "header = ['12h', '11h', '10h', 'Fh', 'Eh', 'Dh', 'Ch', 'Bh', 'Ah', '09h', '08h', '07h', '06h', '05h', '04h', '03h', '02h', '01h', '00h']\n",
    "x8_lut = pd.read_csv(fname, delim_whitespace=True, index_col=0, header=None, names=header)\n",
    "def syndrome_lut(syndrome):\n",
    "    header = ['12h', '11h', '10h', 'Fh', 'Eh', 'Dh', 'Ch', 'Bh', 'Ah', '09h', '08h', '07h', '06h', '05h', '04h', '03h', '02h', '01h', '00h']\n",
    "    syndrome = str(syndrome).lstrip(\"'\")\n",
    "    syndrome = int(syndrome, 2)\n",
    "    syndrome = str.format('{:04X}', syndrome)\n",
    "    suffix = syndrome[2:]\n",
    "    prefix = syndrome[:2]\n",
    "    for col, value in enumerate(x8_lut.loc[suffix]):\n",
    "        if syndrome == value:\n",
    "            return str(bin(int(suffix, 16)))[2:].count('1')\n",
    "    for col, value in enumerate(x8_lut.loc[prefix]):\n",
    "        if syndrome == value:\n",
    "            return str(bin(int(prefix, 16)))[2:].count('1')"
   ]
  },
  {
   "cell_type": "code",
   "execution_count": 42,
   "metadata": {},
   "outputs": [
    {
     "name": "stderr",
     "output_type": "stream",
     "text": [
      "/anaconda3/lib/python3.6/site-packages/ipykernel_launcher.py:2: SettingWithCopyWarning: \n",
      "A value is trying to be set on a copy of a slice from a DataFrame.\n",
      "Try using .loc[row_indexer,col_indexer] = value instead\n",
      "\n",
      "See the caveats in the documentation: http://pandas.pydata.org/pandas-docs/stable/indexing.html#indexing-view-versus-copy\n",
      "  \n"
     ]
    }
   ],
   "source": [
    "slice = df[df['Error Type'] == 'ECC Error']\n",
    "slice['Error Bits'] = slice['Syndrome'].apply(syndrome_lut)"
   ]
  },
  {
   "cell_type": "code",
   "execution_count": 43,
   "metadata": {},
   "outputs": [
    {
     "name": "stdout",
     "output_type": "stream",
     "text": [
      "1    227428\n",
      "2      5516\n",
      "3      2013\n",
      "4      1638\n",
      "5      1179\n",
      "6       702\n",
      "7       519\n",
      "8       327\n",
      "Name: Error Bits, dtype: int64\n"
     ]
    },
    {
     "data": {
      "image/png": "[encoded data removed]",
      "text/plain": [
       "<matplotlib.figure.Figure at 0x113f3e3c8>"
      ]
     },
     "metadata": {},
     "output_type": "display_data"
    }
   ],
   "source": [
    "counts = slice['Error Bits'].value_counts()\n",
    "counts.plot(kind='bar', title='Bit Errors (all data)')\n",
    "print(counts)\n",
    "plt.xlabel('Number of Bits in Error')\n",
    "plt.ylabel('Frequency')\n",
    "plt.show()"
   ]
  },
  {
   "cell_type": "code",
   "execution_count": 44,
   "metadata": {},
   "outputs": [
    {
     "name": "stdout",
     "output_type": "stream",
     "text": [
      "1    206768\n",
      "2      4947\n",
      "3      1816\n",
      "4      1464\n",
      "5      1011\n",
      "6       596\n",
      "7       499\n",
      "8       319\n",
      "Name: Error Bits, dtype: int64\n"
     ]
    },
    {
     "data": {
      "image/png": "[encoded data removed]",
      "text/plain": [
       "<matplotlib.figure.Figure at 0x113f3e320>"
      ]
     },
     "metadata": {},
     "output_type": "display_data"
    }
   ],
   "source": [
    "subset = slice[slice['Node Type'] == 'xe']\n",
    "counts = subset['Error Bits'].value_counts()\n",
    "counts.plot(kind='bar', title='Bit Errors (XE)')\n",
    "print(counts)\n",
    "plt.xlabel('Number of Bits in Error')\n",
    "plt.ylabel('Frequency')\n",
    "plt.show()"
   ]
  },
  {
   "cell_type": "code",
   "execution_count": 45,
   "metadata": {},
   "outputs": [
    {
     "name": "stdout",
     "output_type": "stream",
     "text": [
      "1    9648\n",
      "2     569\n",
      "3     197\n",
      "4     174\n",
      "5     168\n",
      "6     106\n",
      "7      19\n",
      "8       5\n",
      "Name: Error Bits, dtype: int64\n"
     ]
    },
    {
     "data": {
      "image/png": "[encoded data removed]",
      "text/plain": [
       "<matplotlib.figure.Figure at 0x117b31dd8>"
      ]
     },
     "metadata": {},
     "output_type": "display_data"
    }
   ],
   "source": [
    "subset = slice[slice['Node Type'] == 'xk']\n",
    "counts = subset['Error Bits'].value_counts()\n",
    "counts.plot(kind='bar', title='Bit Errors (XK)')\n",
    "print(counts)\n",
    "plt.xlabel('Number of Bits in Error')\n",
    "plt.ylabel('Frequency')\n",
    "plt.show()"
   ]
  },
  {
   "cell_type": "code",
   "execution_count": 46,
   "metadata": {},
   "outputs": [
    {
     "name": "stdout",
     "output_type": "stream",
     "text": [
      "1    11012\n",
      "8        3\n",
      "7        1\n",
      "Name: Error Bits, dtype: int64\n"
     ]
    },
    {
     "data": {
      "image/png": "[encoded data removed]",
      "text/plain": [
       "<matplotlib.figure.Figure at 0x1119a7940>"
      ]
     },
     "metadata": {},
     "output_type": "display_data"
    }
   ],
   "source": [
    "subset = slice[slice['Node Type'] == 'service']\n",
    "counts = subset['Error Bits'].value_counts()\n",
    "counts.plot(kind='bar', title='Bit Errors (Service)')\n",
    "print(counts)\n",
    "plt.xlabel('Number of Bits in Error')\n",
    "plt.ylabel('Frequency')\n",
    "plt.show()"
   ]
  },
  {
   "cell_type": "code",
   "execution_count": 47,
   "metadata": {},
   "outputs": [
    {
     "data": {
      "text/plain": [
       "count                     11893\n",
       "mean     0 days 00:07:22.917850\n",
       "std      0 days 12:42:37.616264\n",
       "min          -21 days +04:09:54\n",
       "25%             0 days 00:00:00\n",
       "50%             0 days 00:00:10\n",
       "75%             0 days 00:02:30\n",
       "max            20 days 15:03:24\n",
       "Name: datetime, dtype: object"
      ]
     },
     "execution_count": 47,
     "metadata": {},
     "output_type": "execute_result"
    }
   ],
   "source": [
    "subset = slice[slice['Error Bits'] > 1]\n",
    "differences = subset['datetime'].diff()\n",
    "differences.describe()"
   ]
  },
  {
   "cell_type": "code",
   "execution_count": 48,
   "metadata": {},
   "outputs": [
    {
     "data": {
      "text/plain": [
       "count                     10651\n",
       "mean     0 days 00:08:14.116608\n",
       "std      0 days 13:25:57.936604\n",
       "min          -21 days +04:09:54\n",
       "25%             0 days 00:00:00\n",
       "50%             0 days 00:00:05\n",
       "75%             0 days 00:02:30\n",
       "max            20 days 15:03:24\n",
       "Name: datetime, dtype: object"
      ]
     },
     "execution_count": 48,
     "metadata": {},
     "output_type": "execute_result"
    }
   ],
   "source": [
    "sub = subset[subset['Node Type'] == 'xe']\n",
    "differences = sub['datetime'].diff()\n",
    "differences.describe()"
   ]
  },
  {
   "cell_type": "code",
   "execution_count": 49,
   "metadata": {},
   "outputs": [
    {
     "data": {
      "text/plain": [
       "count                      1237\n",
       "mean     0 days 01:10:41.650767\n",
       "std      1 days 04:47:27.356949\n",
       "min          -21 days +12:34:26\n",
       "25%             0 days 00:00:22\n",
       "50%             0 days 00:02:30\n",
       "75%             0 days 00:27:30\n",
       "max            22 days 10:07:03\n",
       "Name: datetime, dtype: object"
      ]
     },
     "execution_count": 49,
     "metadata": {},
     "output_type": "execute_result"
    }
   ],
   "source": [
    "sub = subset[subset['Node Type'] == 'xk']\n",
    "differences = sub['datetime'].diff()\n",
    "differences.describe()"
   ]
  },
  {
   "cell_type": "code",
   "execution_count": 50,
   "metadata": {},
   "outputs": [
    {
     "data": {
      "text/plain": [
       "count                         3\n",
       "mean            0 days 00:54:10\n",
       "std      0 days 00:40:06.241883\n",
       "min             0 days 00:12:30\n",
       "25%             0 days 00:35:00\n",
       "50%             0 days 00:57:30\n",
       "75%             0 days 01:15:00\n",
       "max             0 days 01:32:30\n",
       "Name: datetime, dtype: object"
      ]
     },
     "execution_count": 50,
     "metadata": {},
     "output_type": "execute_result"
    }
   ],
   "source": [
    "sub = subset[subset['Node Type'] == 'service']\n",
    "differences = sub['datetime'].diff()\n",
    "differences.describe()"
   ]
  },
  {
   "cell_type": "code",
   "execution_count": 51,
   "metadata": {},
   "outputs": [
    {
     "data": {
      "text/plain": [
       "NodeID                6\n",
       "Date Time             6\n",
       "Complete Node         6\n",
       "Cabinet               6\n",
       "Chassis               6\n",
       "Slot                  6\n",
       "Node                  6\n",
       "Node Type             6\n",
       "Processor             6\n",
       "Time                  6\n",
       "Socket                6\n",
       "Apic                  6\n",
       "Bank                  6\n",
       "Err Val               6\n",
       "OV                    6\n",
       "UC                    6\n",
       "PCC                   6\n",
       "CECC                  6\n",
       "UECC                  6\n",
       "DEF                   0\n",
       "POISON                0\n",
       "L3 Subcache           6\n",
       "Sub Link              6\n",
       "LDT Link              0\n",
       "Scrub                 6\n",
       "Link                  6\n",
       "Cache way in error    0\n",
       "Syndrome              6\n",
       "Core                  6\n",
       "Errorcode             6\n",
       "Ext_errorcode         6\n",
       "Error Type            3\n",
       "Addr                  6\n",
       "Addr Desc             0\n",
       "Errorcode Type        6\n",
       "Misc                  6\n",
       "datetime              6\n",
       "dtype: int64"
      ]
     },
     "execution_count": 51,
     "metadata": {},
     "output_type": "execute_result"
    }
   ],
   "source": [
    "df[(df['UECC'] == 1) & (df['UC'] == 0)].count()"
   ]
  },
  {
   "cell_type": "markdown",
   "metadata": {},
   "source": [
    "There are 6 errors that were both UECC = 1 (Uncorrectable ECC/Chipkill error) and UC = 0 (Error Uncorrected) which means they were uncorrected uncorrectable errors.\n",
    "\n",
    "From lecture 4 presentation, slide 5:\n",
    "\n",
    "ERROR:\n",
    "\"Upon activation (invoking the faulty\n",
    "component by applying an input) the fault\n",
    "becomes active and produces an error\"\n",
    "\"Upon activation the fault become active and\n",
    "produces an error\"\n",
    "\n",
    "FAILURE:\n",
    "\"If and when this faulty value is used (i.e the\n",
    "memory location is activated - the error\n",
    "affects the delivered service (e.g.,\n",
    "information content), a failure occurs\"\n",
    "\"When the error affects the delivered service , a\n",
    "failure occurs\""
   ]
  },
  {
   "cell_type": "code",
   "execution_count": 54,
   "metadata": {},
   "outputs": [
    {
     "name": "stdout",
     "output_type": "stream",
     "text": [
      "DONE\n"
     ]
    }
   ],
   "source": [
    "df2 = df.sort_values(by=['Time']);\n",
    "print(\"DONE\")"
   ]
  },
  {
   "cell_type": "code",
   "execution_count": 55,
   "metadata": {},
   "outputs": [
    {
     "data": {
      "text/plain": [
       "(13.531852585704643, 391.64892543726364)"
      ]
     },
     "execution_count": 55,
     "metadata": {},
     "output_type": "execute_result"
    }
   ],
   "source": [
    "# AFTER sorted by time\n",
    "timevals = df2['Time'].values\n",
    "\n",
    "# this finds the difference between consecutive values in timevals\n",
    "diffs = timevals[1:] - timevals[:-1]\n",
    "diffs.mean(), diffs.std()\n",
    "\n"
   ]
  },
  {
   "cell_type": "code",
   "execution_count": 56,
   "metadata": {},
   "outputs": [
    {
     "name": "stdout",
     "output_type": "stream",
     "text": [
      "[  9.  15.  15. ...,   2.  35.   0.]\n",
      "float64\n",
      "float64\n"
     ]
    }
   ],
   "source": [
    "print(diffs)\n",
    "print(diffs[0].dtype)\n",
    "print(diffs.dtype)\n",
    "\n"
   ]
  },
  {
   "cell_type": "code",
   "execution_count": 57,
   "metadata": {
    "collapsed": true
   },
   "outputs": [],
   "source": [
    "unique, counts = np.unique(diffs, return_counts=True);"
   ]
  },
  {
   "cell_type": "code",
   "execution_count": 58,
   "metadata": {},
   "outputs": [
    {
     "name": "stdout",
     "output_type": "stream",
     "text": [
      "734\n",
      "734\n",
      "389623\n"
     ]
    }
   ],
   "source": [
    "print(len(unique));\n",
    "print(len(counts));\n",
    "print(len(diffs));"
   ]
  },
  {
   "cell_type": "code",
   "execution_count": 59,
   "metadata": {
    "collapsed": true
   },
   "outputs": [],
   "source": [
    "probs = counts/len(diffs)"
   ]
  },
  {
   "cell_type": "code",
   "execution_count": 60,
   "metadata": {},
   "outputs": [
    {
     "data": {
      "image/png": "[encoded data removed]",
      "text/plain": [
       "<matplotlib.figure.Figure at 0x1116f1550>"
      ]
     },
     "metadata": {},
     "output_type": "display_data"
    }
   ],
   "source": [
    "import matplotlib.pyplot as plt\n",
    "plt.plot(unique, counts, 'ro')\n",
    "\n",
    "# plt.axis([0, 6, 0, 20])\n",
    "plt.show()"
   ]
  },
  {
   "cell_type": "code",
   "execution_count": 61,
   "metadata": {},
   "outputs": [
    {
     "data": {
      "image/png": "[encoded data removed]",
      "text/plain": [
       "<matplotlib.figure.Figure at 0x1117ed940>"
      ]
     },
     "metadata": {},
     "output_type": "display_data"
    }
   ],
   "source": [
    "import matplotlib.pyplot as plt\n",
    "plt.semilogx(unique, probs, 'ro')\n",
    "\n",
    "# plt.axis([0, 6, 0, 20])\n",
    "plt.show()"
   ]
  },
  {
   "cell_type": "code",
   "execution_count": null,
   "metadata": {
    "collapsed": true
   },
   "outputs": [],
   "source": []
  }
 ],
 "metadata": {
  "kernelspec": {
   "display_name": "Python 3",
   "language": "python",
   "name": "python3"
  },
  "language_info": {
   "codemirror_mode": {
    "name": "ipython",
    "version": 3
   },
   "file_extension": ".py",
   "mimetype": "text/x-python",
   "name": "python",
   "nbconvert_exporter": "python",
   "pygments_lexer": "ipython3",
   "version": "3.6.3"
  }
 },
 "nbformat": 4,
 "nbformat_minor": 2
}

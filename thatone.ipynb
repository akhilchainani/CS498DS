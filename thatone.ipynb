{
 "cells": [
  {
   "cell_type": "code",
   "execution_count": 1,
   "metadata": {
    "collapsed": true
   },
   "outputs": [],
   "source": [
    "import numpy as np\n",
    "import matplotlib.pyplot as plt\n",
    "import matplotlib\n",
    "import pandas as pd"
   ]
  },
  {
   "cell_type": "markdown",
   "metadata": {},
   "source": [
    "## Read in dataset"
   ]
  },
  {
   "cell_type": "code",
   "execution_count": 18,
   "metadata": {},
   "outputs": [],
   "source": [
    "month1 = pd.read_csv(\"aug13_decoded\", sep='\\t')\n",
    "month2 = pd.read_csv(\"sep13_decoded\", sep='\\t')\n",
    "\n",
    "# merge datasets into df\n",
    "df = pd.concat([month1, month2])"
   ]
  },
  {
   "cell_type": "markdown",
   "metadata": {},
   "source": [
    "## Let's inspect the dataset"
   ]
  },
  {
   "cell_type": "code",
   "execution_count": 19,
   "metadata": {},
   "outputs": [
    {
     "data": {
      "text/html": [
       "<div>\n",
       "<style>\n",
       "    .dataframe thead tr:only-child th {\n",
       "        text-align: right;\n",
       "    }\n",
       "\n",
       "    .dataframe thead th {\n",
       "        text-align: left;\n",
       "    }\n",
       "\n",
       "    .dataframe tbody tr th {\n",
       "        vertical-align: top;\n",
       "    }\n",
       "</style>\n",
       "<table border=\"1\" class=\"dataframe\">\n",
       "  <thead>\n",
       "    <tr style=\"text-align: right;\">\n",
       "      <th></th>\n",
       "      <th>NodeID</th>\n",
       "      <th>Date Time</th>\n",
       "      <th>Complete Node</th>\n",
       "      <th>Cabinet</th>\n",
       "      <th>Chassis</th>\n",
       "      <th>Slot</th>\n",
       "      <th>Node</th>\n",
       "      <th>Node Type</th>\n",
       "      <th>Processor</th>\n",
       "      <th>Time</th>\n",
       "      <th>...</th>\n",
       "      <th>Cache way in error</th>\n",
       "      <th>Syndrome</th>\n",
       "      <th>Core</th>\n",
       "      <th>Errorcode</th>\n",
       "      <th>Ext_errorcode</th>\n",
       "      <th>Error Type</th>\n",
       "      <th>Addr</th>\n",
       "      <th>Addr Desc</th>\n",
       "      <th>Errorcode Type</th>\n",
       "      <th>Misc</th>\n",
       "    </tr>\n",
       "  </thead>\n",
       "  <tbody>\n",
       "    <tr>\n",
       "      <th>0</th>\n",
       "      <td>70</td>\n",
       "      <td>2013-08-01 00:01:24</td>\n",
       "      <td>c19-7c1s7n1</td>\n",
       "      <td>19-7</td>\n",
       "      <td>1.0</td>\n",
       "      <td>7.0</td>\n",
       "      <td>1.0</td>\n",
       "      <td>xe</td>\n",
       "      <td>2:600f12</td>\n",
       "      <td>1.375333e+09</td>\n",
       "      <td>...</td>\n",
       "      <td>NaN</td>\n",
       "      <td>'110000100</td>\n",
       "      <td>0.0</td>\n",
       "      <td>'100001011</td>\n",
       "      <td>'11100</td>\n",
       "      <td>L3 Cache Data Error, Single bit Error, Cache W...</td>\n",
       "      <td>0d1c4</td>\n",
       "      <td>Physical</td>\n",
       "      <td>mem</td>\n",
       "      <td>c00a000001000000</td>\n",
       "    </tr>\n",
       "    <tr>\n",
       "      <th>1</th>\n",
       "      <td>70</td>\n",
       "      <td>2013-08-01 00:05:46</td>\n",
       "      <td>c17-0c1s7n0</td>\n",
       "      <td>17-0</td>\n",
       "      <td>1.0</td>\n",
       "      <td>7.0</td>\n",
       "      <td>0.0</td>\n",
       "      <td>xk</td>\n",
       "      <td>2:600f12</td>\n",
       "      <td>1.375334e+09</td>\n",
       "      <td>...</td>\n",
       "      <td>NaN</td>\n",
       "      <td>'100101110</td>\n",
       "      <td>NaN</td>\n",
       "      <td>'100000010011</td>\n",
       "      <td>'1000</td>\n",
       "      <td>ECC Error</td>\n",
       "      <td>44bd7910</td>\n",
       "      <td>Physical</td>\n",
       "      <td>bus</td>\n",
       "      <td>c00a002f01000000</td>\n",
       "    </tr>\n",
       "    <tr>\n",
       "      <th>2</th>\n",
       "      <td>70</td>\n",
       "      <td>2013-08-01 00:06:24</td>\n",
       "      <td>c12-7c2s6n1</td>\n",
       "      <td>12-7</td>\n",
       "      <td>2.0</td>\n",
       "      <td>6.0</td>\n",
       "      <td>1.0</td>\n",
       "      <td>xe</td>\n",
       "      <td>2:600f12</td>\n",
       "      <td>1.375334e+09</td>\n",
       "      <td>...</td>\n",
       "      <td>NaN</td>\n",
       "      <td>'1110110100100000</td>\n",
       "      <td>NaN</td>\n",
       "      <td>'101000010011</td>\n",
       "      <td>'1000</td>\n",
       "      <td>ECC Error</td>\n",
       "      <td>483b3e350</td>\n",
       "      <td>Physical</td>\n",
       "      <td>bus</td>\n",
       "      <td>c00a000101000000</td>\n",
       "    </tr>\n",
       "    <tr>\n",
       "      <th>3</th>\n",
       "      <td>70</td>\n",
       "      <td>2013-08-01 00:06:24</td>\n",
       "      <td>c10-9c0s7n3</td>\n",
       "      <td>10-9</td>\n",
       "      <td>0.0</td>\n",
       "      <td>7.0</td>\n",
       "      <td>3.0</td>\n",
       "      <td>xe</td>\n",
       "      <td>2:600f12</td>\n",
       "      <td>1.375334e+09</td>\n",
       "      <td>...</td>\n",
       "      <td>NaN</td>\n",
       "      <td>'10</td>\n",
       "      <td>7.0</td>\n",
       "      <td>'100011011</td>\n",
       "      <td>'11100</td>\n",
       "      <td>L3 Cache Data Error, Single bit Error, Cache W...</td>\n",
       "      <td>411bf0e44</td>\n",
       "      <td>Physical</td>\n",
       "      <td>mem</td>\n",
       "      <td>c00a000001000000</td>\n",
       "    </tr>\n",
       "    <tr>\n",
       "      <th>4</th>\n",
       "      <td>70</td>\n",
       "      <td>2013-08-01 00:06:27</td>\n",
       "      <td>c19-5c2s3n3</td>\n",
       "      <td>19-5</td>\n",
       "      <td>2.0</td>\n",
       "      <td>3.0</td>\n",
       "      <td>3.0</td>\n",
       "      <td>xe</td>\n",
       "      <td>2:600f12</td>\n",
       "      <td>1.375334e+09</td>\n",
       "      <td>...</td>\n",
       "      <td>NaN</td>\n",
       "      <td>'1001110100000001</td>\n",
       "      <td>NaN</td>\n",
       "      <td>'101000010011</td>\n",
       "      <td>'1000</td>\n",
       "      <td>ECC Error</td>\n",
       "      <td>4854e0c40</td>\n",
       "      <td>Physical</td>\n",
       "      <td>bus</td>\n",
       "      <td>c00a000101000000</td>\n",
       "    </tr>\n",
       "  </tbody>\n",
       "</table>\n",
       "<p>5 rows × 36 columns</p>\n",
       "</div>"
      ],
      "text/plain": [
       "   NodeID            Date Time Complete Node Cabinet  Chassis  Slot  Node  \\\n",
       "0      70  2013-08-01 00:01:24   c19-7c1s7n1    19-7      1.0   7.0   1.0   \n",
       "1      70  2013-08-01 00:05:46   c17-0c1s7n0    17-0      1.0   7.0   0.0   \n",
       "2      70  2013-08-01 00:06:24   c12-7c2s6n1    12-7      2.0   6.0   1.0   \n",
       "3      70  2013-08-01 00:06:24   c10-9c0s7n3    10-9      0.0   7.0   3.0   \n",
       "4      70  2013-08-01 00:06:27   c19-5c2s3n3    19-5      2.0   3.0   3.0   \n",
       "\n",
       "  Node Type  Processor          Time        ...         Cache way in error  \\\n",
       "0        xe  2:600f12   1.375333e+09        ...                        NaN   \n",
       "1        xk  2:600f12   1.375334e+09        ...                        NaN   \n",
       "2        xe  2:600f12   1.375334e+09        ...                        NaN   \n",
       "3        xe  2:600f12   1.375334e+09        ...                        NaN   \n",
       "4        xe  2:600f12   1.375334e+09        ...                        NaN   \n",
       "\n",
       "            Syndrome  Core      Errorcode  Ext_errorcode  \\\n",
       "0         '110000100   0.0     '100001011         '11100   \n",
       "1         '100101110   NaN  '100000010011          '1000   \n",
       "2  '1110110100100000   NaN  '101000010011          '1000   \n",
       "3                '10   7.0     '100011011         '11100   \n",
       "4  '1001110100000001   NaN  '101000010011          '1000   \n",
       "\n",
       "                                          Error Type       Addr  Addr Desc  \\\n",
       "0  L3 Cache Data Error, Single bit Error, Cache W...      0d1c4   Physical   \n",
       "1                                          ECC Error   44bd7910   Physical   \n",
       "2                                          ECC Error  483b3e350   Physical   \n",
       "3  L3 Cache Data Error, Single bit Error, Cache W...  411bf0e44   Physical   \n",
       "4                                          ECC Error  4854e0c40   Physical   \n",
       "\n",
       "   Errorcode Type              Misc  \n",
       "0             mem  c00a000001000000  \n",
       "1             bus  c00a002f01000000  \n",
       "2             bus  c00a000101000000  \n",
       "3             mem  c00a000001000000  \n",
       "4             bus  c00a000101000000  \n",
       "\n",
       "[5 rows x 36 columns]"
      ]
     },
     "execution_count": 19,
     "metadata": {},
     "output_type": "execute_result"
    }
   ],
   "source": [
    "df.head()"
   ]
  },
  {
   "cell_type": "code",
   "execution_count": 20,
   "metadata": {},
   "outputs": [
    {
     "data": {
      "text/plain": [
       "Index(['NodeID', 'Date Time', 'Complete Node', 'Cabinet', 'Chassis', 'Slot',\n",
       "       'Node', 'Node Type', 'Processor', 'Time', 'Socket', 'Apic', 'Bank',\n",
       "       'Err Val', 'OV', 'UC', 'PCC', 'CECC', 'UECC', 'DEF', 'POISON',\n",
       "       'L3 Subcache', 'Sub Link', 'LDT Link', 'Scrub', 'Link',\n",
       "       'Cache way in error', 'Syndrome', 'Core', 'Errorcode', 'Ext_errorcode',\n",
       "       'Error Type', 'Addr', 'Addr Desc', 'Errorcode Type', 'Misc'],\n",
       "      dtype='object')"
      ]
     },
     "execution_count": 20,
     "metadata": {},
     "output_type": "execute_result"
    }
   ],
   "source": [
    "df.keys()"
   ]
  },
  {
   "cell_type": "code",
   "execution_count": 21,
   "metadata": {},
   "outputs": [
    {
     "name": "stdout",
     "output_type": "stream",
     "text": [
      "xe                     367250\n",
      "xk                      11372\n",
      "service                 11064\n",
      "service_not_present      9759\n",
      "Name: Node Type, dtype: int64\n"
     ]
    }
   ],
   "source": [
    "# J: how do these columns look?\n",
    "print(df['Node Type'].value_counts())\n"
   ]
  },
  {
   "cell_type": "markdown",
   "metadata": {},
   "source": [
    "## Looks like we have some timestamps in the 'Time' column.\n",
    "## Let's convert these to human readable timestamps"
   ]
  },
  {
   "cell_type": "code",
   "execution_count": 22,
   "metadata": {
    "collapsed": true
   },
   "outputs": [],
   "source": [
    "df['datetime'] = pd.to_datetime(df['Time'], unit='s')\n",
    "#df['datetime'] = df['datetime'].dt.tz_localize('America/Chicago', ambiguous=True)\n"
   ]
  },
  {
   "cell_type": "code",
   "execution_count": 23,
   "metadata": {},
   "outputs": [
    {
     "name": "stdout",
     "output_type": "stream",
     "text": [
      "1970-01-01 00:00:01\n",
      "2013-10-01 04:58:06\n"
     ]
    }
   ],
   "source": [
    "print(min(df['datetime']))\n",
    "print(max(df['datetime']))"
   ]
  },
  {
   "cell_type": "markdown",
   "metadata": {},
   "source": [
    "## Hmm, we shouldn't have timestamps from 1970. This is probably bad data.\n",
    "## Let's filter out these bad entries"
   ]
  },
  {
   "cell_type": "code",
   "execution_count": 24,
   "metadata": {
    "collapsed": true
   },
   "outputs": [],
   "source": [
    "# keep entries between July 31st and Oct 2nd\n",
    "df = df[(1375315199 < df['Time']) & (df['Time'] < 1380585600)]\n",
    "\n",
    "# If you open up the datasets in a text editor, you'll see that \n",
    "# Node Type entries with 'service_not_present' have incomplete information\n",
    "df = df[df['Node Type'] != 'service_not_present']"
   ]
  },
  {
   "cell_type": "code",
   "execution_count": 25,
   "metadata": {},
   "outputs": [
    {
     "name": "stdout",
     "output_type": "stream",
     "text": [
      "2013-08-01 04:26:05\n",
      "2013-09-30 23:59:49\n"
     ]
    }
   ],
   "source": [
    "print(min(df['datetime']))\n",
    "print(max(df['datetime']))"
   ]
  },
  {
   "cell_type": "markdown",
   "metadata": {},
   "source": [
    "## Much better"
   ]
  },
  {
   "cell_type": "markdown",
   "metadata": {},
   "source": [
    "## Task 0 - Let's count some columns\n"
   ]
  },
  {
   "cell_type": "code",
   "execution_count": 26,
   "metadata": {},
   "outputs": [
    {
     "data": {
      "text/plain": [
       "388393"
      ]
     },
     "execution_count": 26,
     "metadata": {},
     "output_type": "execute_result"
    }
   ],
   "source": [
    "# total number of entries\n",
    "len(df)"
   ]
  },
  {
   "cell_type": "code",
   "execution_count": 27,
   "metadata": {},
   "outputs": [
    {
     "data": {
      "text/plain": [
       "6203"
      ]
     },
     "execution_count": 27,
     "metadata": {},
     "output_type": "execute_result"
    }
   ],
   "source": [
    "# number of nodes\n",
    "len(df['Complete Node'].unique())"
   ]
  },
  {
   "cell_type": "code",
   "execution_count": 28,
   "metadata": {},
   "outputs": [
    {
     "data": {
      "text/plain": [
       "59"
      ]
     },
     "execution_count": 28,
     "metadata": {},
     "output_type": "execute_result"
    }
   ],
   "source": [
    "# number of days\n",
    "# normalize() sets the time to 00:00:00 giving us only the date portion of the timestamp/\n",
    "len(df['datetime'].dt.normalize().unique())"
   ]
  },
  {
   "cell_type": "code",
   "execution_count": 29,
   "metadata": {},
   "outputs": [
    {
     "data": {
      "text/plain": [
       "array(['xe', 'xk', 'service'], dtype=object)"
      ]
     },
     "execution_count": 29,
     "metadata": {},
     "output_type": "execute_result"
    }
   ],
   "source": [
    "# node types\n",
    "df['Node Type'].unique()"
   ]
  },
  {
   "cell_type": "code",
   "execution_count": 30,
   "metadata": {},
   "outputs": [
    {
     "data": {
      "text/plain": [
       "c13-4c0s2n0     20674\n",
       "c18-7c1s2n3     20607\n",
       "c21-5c0s3n0     20522\n",
       "c0-11c2s3n1     20506\n",
       "c1-3c2s7n1      19321\n",
       "c16-9c2s2n0     14425\n",
       "c8-0c1s7n3      10387\n",
       "c13-7c0s6n1      9156\n",
       "c16-11c2s3n3     9115\n",
       "c22-10c1s3n2     7131\n",
       "c5-4c2s3n3       6619\n",
       "c8-6c2s7n3       6409\n",
       "c13-9c0s1n0      5987\n",
       "c17-3c2s2n3      5745\n",
       "c22-8c2s5n0      5708\n",
       "c3-8c0s4n3       5125\n",
       "c9-1c1s1n0       4994\n",
       "c3-7c0s5n3       4778\n",
       "c7-8c1s0n1       4006\n",
       "c19-5c2s7n1      3589\n",
       "c5-3c0s5n1       3164\n",
       "c7-10c2s1n1      2984\n",
       "c6-11c2s0n2      2965\n",
       "c5-5c1s0n2       2883\n",
       "c13-11c2s3n1     2758\n",
       "c7-11c1s2n1      2598\n",
       "c19-9c2s7n0      2520\n",
       "c3-0c2s7n3       2449\n",
       "c7-8c1s4n2       2341\n",
       "c15-3c2s7n1      2241\n",
       "                ...  \n",
       "c0-9c1s4n1          1\n",
       "c2-7c0s3n1          1\n",
       "c18-5c1s7n3         1\n",
       "c15-10c0s4n2        1\n",
       "c7-6c1s1n0          1\n",
       "c17-3c2s6n3         1\n",
       "c21-10c1s2n0        1\n",
       "c23-4c1s1n3         1\n",
       "c22-7c0s4n1         1\n",
       "c23-8c1s4n2         1\n",
       "c2-4c0s7n2          1\n",
       "c1-8c1s3n3          1\n",
       "c21-3c2s3n0         1\n",
       "c6-6c1s7n2          1\n",
       "c6-6c0s0n3          1\n",
       "c3-11c1s2n0         1\n",
       "c19-6c1s0n1         1\n",
       "c9-5c0s2n0          1\n",
       "c11-10c2s1n2        1\n",
       "c21-7c0s3n2         1\n",
       "c8-11c2s3n1         1\n",
       "c18-11c1s4n1        1\n",
       "c1-4c0s5n2          1\n",
       "c1-3c0s7n2          1\n",
       "c7-4c1s0n0          1\n",
       "c3-11c1s4n0         1\n",
       "c2-11c2s2n0         1\n",
       "c21-9c2s1n3         1\n",
       "c1-10c1s5n3         1\n",
       "c5-6c0s0n0          1\n",
       "Name: Complete Node, Length: 6203, dtype: int64"
      ]
     },
     "execution_count": 30,
     "metadata": {},
     "output_type": "execute_result"
    }
   ],
   "source": [
    "df['Complete Node'].value_counts()\n",
    "\n",
    "# don't forget to represent this data as a box plot"
   ]
  },
  {
   "cell_type": "code",
   "execution_count": 35,
   "metadata": {},
   "outputs": [
    {
     "data": {
      "text/plain": [
       "(13.528661764402974, 392.26577084991305)"
      ]
     },
     "execution_count": 35,
     "metadata": {},
     "output_type": "execute_result"
    }
   ],
   "source": [
    "#BEFORE\n",
    "\n",
    "timevals = df['Time'].values\n",
    "\n",
    "# this finds the difference between consecutive values in timevals\n",
    "diffs = timevals[1:] - timevals[:-1]\n",
    "diffs.mean(), diffs.std()"
   ]
  },
  {
   "cell_type": "code",
   "execution_count": 37,
   "metadata": {},
   "outputs": [
    {
     "name": "stdout",
     "output_type": "stream",
     "text": [
      "service 477.700736565 3369.04349542\n",
      "xe 14.3476951144 406.680775251\n",
      "xk 467.420612318 2817.94370287\n"
     ]
    }
   ],
   "source": [
    "for nt in ['service', 'xe', 'xk']:\n",
    "    timevals = df2[df2['Node Type'] == nt]['Time'].values\n",
    "    timevals.sort()\n",
    "    diffs = timevals[1:] - timevals[:-1]\n",
    "    print (nt, diffs.mean(), diffs.std())"
   ]
  },
  {
   "cell_type": "markdown",
   "metadata": {},
   "source": [
    "There are 6 errors that were both UECC = 1 (Uncorrectable ECC/Chipkill error) and UC = 0 (Error Uncorrected) which means they were uncorrected uncorrectable errors."
   ]
  },
  {
   "cell_type": "markdown",
   "metadata": {},
   "source": [
    "From lecture 4 presentation, slide 5:\n",
    "\n",
    "ERROR:\n",
    "\"Upon activation (invoking the faulty\n",
    "component by applying an input) the fault\n",
    "becomes active and produces an error\"\n",
    "\"Upon activation the fault become active and\n",
    "produces an error\"\n",
    "\n",
    "FAILURE:\n",
    "\"If and when this faulty value is used (i.e the\n",
    "memory location is activated - the error\n",
    "affects the delivered service (e.g.,\n",
    "information content), a failure occurs\"\n",
    "\"When the error affects the delivered service , a\n",
    "failure occurs\""
   ]
  },
  {
   "cell_type": "code",
   "execution_count": 39,
   "metadata": {},
   "outputs": [
    {
     "name": "stdout",
     "output_type": "stream",
     "text": [
      "[  450.   150.    75. ...,  1587.   150.  1001.]\n",
      "float64\n",
      "float64\n"
     ]
    }
   ],
   "source": [
    "print(diffs)\n",
    "print(diffs[0].dtype)\n",
    "print(diffs.dtype)\n"
   ]
  },
  {
   "cell_type": "code",
   "execution_count": 40,
   "metadata": {},
   "outputs": [],
   "source": [
    "unique, counts = np.unique(diffs, return_counts=True)"
   ]
  },
  {
   "cell_type": "code",
   "execution_count": 44,
   "metadata": {},
   "outputs": [
    {
     "data": {
      "text/plain": [
       "11236"
      ]
     },
     "execution_count": 44,
     "metadata": {},
     "output_type": "execute_result"
    }
   ],
   "source": [
    "np.sum(counts)"
   ]
  },
  {
   "cell_type": "code",
   "execution_count": 45,
   "metadata": {
    "collapsed": true
   },
   "outputs": [],
   "source": [
    "probs = counts/len(diffs)"
   ]
  },
  {
   "cell_type": "code",
   "execution_count": 46,
   "metadata": {},
   "outputs": [
    {
     "data": {
      "image/png": "[encoded data removed]",
      "text/plain": [
       "<matplotlib.figure.Figure at 0xb54c7b8>"
      ]
     },
     "metadata": {},
     "output_type": "display_data"
    }
   ],
   "source": [
    "import matplotlib.pyplot as plt\n",
    "plt.plot(unique, counts, 'ro')\n",
    "\n",
    "# plt.axis([0, 6, 0, 20])\n",
    "plt.show()"
   ]
  },
  {
   "cell_type": "code",
   "execution_count": 47,
   "metadata": {},
   "outputs": [
    {
     "data": {
      "image/png": "[encoded data removed]",
      "text/plain": [
       "<matplotlib.figure.Figure at 0xc542fd0>"
      ]
     },
     "metadata": {},
     "output_type": "display_data"
    }
   ],
   "source": [
    "plt.semilogx(unique, probs, 'ro')\n",
    "\n",
    "# plt.axis([0, 6, 0, 20])\n",
    "plt.show()"
   ]
  },
  {
   "cell_type": "markdown",
   "metadata": {},
   "source": [
    "The pdf of Time to MCE Distribution demonstates a Weibull Distribution with a Beta value < 1.\n",
    "\n",
    "Resource: http://www.weibull.com/hotwire/issue14/relbasics14.htm"
   ]
  },
  {
   "cell_type": "code",
   "execution_count": 48,
   "metadata": {},
   "outputs": [
    {
     "name": "stdout",
     "output_type": "stream",
     "text": [
      "Percentage of MCEs caused by memory errors = 61.42%\n"
     ]
    }
   ],
   "source": [
    "# Percentage of MCEs caused by memory errors\n",
    "\n",
    "subset = df[df['Error Type'] == 'ECC Error']\n",
    "len(subset)\n",
    "len(df)\n",
    "percentage = len(subset)/len(df)\n",
    "print('Percentage of MCEs caused by memory errors = {:.2f}%'.format(100*percentage))"
   ]
  },
  {
   "cell_type": "code",
   "execution_count": 55,
   "metadata": {},
   "outputs": [
    {
     "name": "stderr",
     "output_type": "stream",
     "text": [
      "C:\\Users\\alvaro2\\AppData\\Local\\Continuum\\anaconda3\\lib\\site-packages\\pandas\\core\\indexing.py:179: SettingWithCopyWarning: \n",
      "A value is trying to be set on a copy of a slice from a DataFrame\n",
      "\n",
      "See the caveats in the documentation: http://pandas.pydata.org/pandas-docs/stable/indexing.html#indexing-view-versus-copy\n",
      "  self._setitem_with_indexer(indexer, value)\n"
     ]
    },
    {
     "data": {
      "text/plain": [
       "array(['ECC Error', 'L3 Cache Error', 'Probe Filter Error',\n",
       "       'L2 Cache Error', 'Instruction Cache Error', nan, 'Reserved',\n",
       "       'DataCopyBack_Evict', 'Internal Error : IDRF Array Parity',\n",
       "       'TLB : TLbpar', 'Data Cache Error : Data Array', 'Line Fill Error'], dtype=object)"
      ]
     },
     "execution_count": 55,
     "metadata": {},
     "output_type": "execute_result"
    }
   ],
   "source": [
    "df['Error Type'].loc[df['Error Type'].str.contains('L3') == True] = 'L3 Cache Error'\n",
    "df['Error Type'].loc[df['Error Type'].str.contains('L2') == True] = 'L2 Cache Error'\n",
    "df['Error Type'].loc[df['Error Type'].str.contains('Probe') == True] = 'Probe Filter Error'\n",
    "df['Error Type'].loc[df['Error Type'].str.contains('Instruction') == True] = 'Instruction Cache Error'\n",
    "df['Error Type'].unique()"
   ]
  },
  {
   "cell_type": "code",
   "execution_count": 60,
   "metadata": {},
   "outputs": [
    {
     "name": "stdout",
     "output_type": "stream",
     "text": [
      "ECC Error                             238564\n",
      "L3 Cache Error                         84892\n",
      "Probe Filter Error                     53167\n",
      "L2 Cache Error                          7101\n",
      "Instruction Cache Error                 1790\n",
      "Reserved                                  38\n",
      "Data Cache Error : Data Array              5\n",
      "DataCopyBack_Evict                         4\n",
      "TLB : TLbpar                               3\n",
      "Internal Error : IDRF Array Parity         1\n",
      "Line Fill Error                            1\n",
      "Name: Error Type, dtype: int64\n"
     ]
    },
    {
     "data": {
      "image/png": "[encoded data removed]",
      "text/plain": [
       "<matplotlib.figure.Figure at 0xbe41908>"
      ]
     },
     "metadata": {},
     "output_type": "display_data"
    }
   ],
   "source": [
    "errors = df['Error Type'].value_counts()\n",
    "print(errors)\n",
    "errors.plot(kind='bar', title='Error Types (entire dataset)')\n",
    "plt.show()"
   ]
  },
  {
   "cell_type": "code",
   "execution_count": 61,
   "metadata": {},
   "outputs": [
    {
     "name": "stdout",
     "output_type": "stream",
     "text": [
      "ECC Error                             216853\n",
      "L3 Cache Error                         84570\n",
      "Probe Filter Error                     53126\n",
      "L2 Cache Error                          6966\n",
      "Instruction Cache Error                 1779\n",
      "Reserved                                  37\n",
      "Data Cache Error : Data Array              5\n",
      "TLB : TLbpar                               3\n",
      "Internal Error : IDRF Array Parity         1\n",
      "Line Fill Error                            1\n",
      "Name: Error Type, dtype: int64\n"
     ]
    },
    {
     "data": {
      "image/png": "[encoded data removed]",
      "text/plain": [
       "<matplotlib.figure.Figure at 0xd359be0>"
      ]
     },
     "metadata": {},
     "output_type": "display_data"
    }
   ],
   "source": [
    "subset = df[df['Node Type'] == 'xe']\n",
    "errors = subset['Error Type'].value_counts()\n",
    "print(errors)\n",
    "errors.plot(kind='bar', title='Error Types (XE)')\n",
    "plt.show()"
   ]
  },
  {
   "cell_type": "code",
   "execution_count": 62,
   "metadata": {},
   "outputs": [
    {
     "name": "stdout",
     "output_type": "stream",
     "text": [
      "ECC Error                  10760\n",
      "L3 Cache Error               285\n",
      "L2 Cache Error               132\n",
      "Probe Filter Error            41\n",
      "Instruction Cache Error       11\n",
      "Reserved                       1\n",
      "DataCopyBack_Evict             1\n",
      "Name: Error Type, dtype: int64\n"
     ]
    },
    {
     "data": {
      "image/png": "[encoded data removed]",
      "text/plain": [
       "<matplotlib.figure.Figure at 0xc234b38>"
      ]
     },
     "metadata": {},
     "output_type": "display_data"
    }
   ],
   "source": [
    "subset = df[df['Node Type'] == 'xk']\n",
    "errors = subset['Error Type'].value_counts()\n",
    "print(errors)\n",
    "errors.plot(kind='bar', title='Error Types (XK)')\n",
    "plt.show()"
   ]
  },
  {
   "cell_type": "code",
   "execution_count": 63,
   "metadata": {},
   "outputs": [
    {
     "name": "stdout",
     "output_type": "stream",
     "text": [
      "ECC Error             10951\n",
      "L3 Cache Error           37\n",
      "DataCopyBack_Evict        3\n",
      "L2 Cache Error            3\n",
      "Name: Error Type, dtype: int64\n"
     ]
    },
    {
     "data": {
      "image/png": "[encoded data removed]",
      "text/plain": [
       "<matplotlib.figure.Figure at 0x9e4a208>"
      ]
     },
     "metadata": {},
     "output_type": "display_data"
    }
   ],
   "source": [
    "subset = df[df['Node Type'] == 'service']\n",
    "errors = subset['Error Type'].value_counts()\n",
    "print(errors)\n",
    "errors.plot(kind='bar', title='Error Types (Service)')\n",
    "plt.show()"
   ]
  },
  {
   "cell_type": "code",
   "execution_count": 145,
   "metadata": {},
   "outputs": [
    {
     "data": {
      "image/png": "[encoded data removed]",
      "text/plain": [
       "<matplotlib.figure.Figure at 0xbf61278>"
      ]
     },
     "metadata": {},
     "output_type": "display_data"
    }
   ],
   "source": [
    "uncorrectable = df[(df['UECC'] == 1) & (df['UC'] == 1)]\n",
    "ttf = uncorrectable['datetime'] - df['datetime'].iloc[0]\n",
    "ttf = uncorrectable['datetime'].values[0] - np.datetime64(df['datetime'].iloc[0].to_pydatetime())\n",
    "ttf.astype('timedelta64[s]')\n",
    "plt.bar(['1'], [227904])\n",
    "plt.xlabel('Instances')\n",
    "plt.title('Time to Failure')\n",
    "plt.ylabel('Time (s)')\n",
    "plt.show()"
   ]
  },
  {
   "cell_type": "code",
   "execution_count": 152,
   "metadata": {
    "collapsed": true
   },
   "outputs": [],
   "source": [
    "fname = 'syndrome_x8.txt'\n",
    "header = ['12h', '11h', '10h', 'Fh', 'Eh', 'Dh', 'Ch', 'Bh', 'Ah', '09h', '08h', '07h', '06h', '05h', '04h', '03h', '02h', '01h', '00h']\n",
    "x8_lut = pd.read_csv(fname, delim_whitespace=True, index_col=0, header=None, names=header)\n",
    "def syndrome_lut(syndrome):\n",
    "    header = ['12h', '11h', '10h', 'Fh', 'Eh', 'Dh', 'Ch', 'Bh', 'Ah', '09h', '08h', '07h', '06h', '05h', '04h', '03h', '02h', '01h', '00h']\n",
    "    syndrome = str(syndrome).lstrip(\"'\")\n",
    "    syndrome = int(syndrome, 2)\n",
    "    syndrome = str.format('{:04X}', syndrome)\n",
    "    suffix = syndrome[2:]\n",
    "    prefix = syndrome[:2]\n",
    "    for col, value in enumerate(x8_lut.loc[suffix]):\n",
    "        if syndrome == value:\n",
    "            return str(bin(int(suffix, 16)))[2:].count('1')\n",
    "    for col, value in enumerate(x8_lut.loc[prefix]):\n",
    "        if syndrome == value:\n",
    "            return str(bin(int(prefix, 16)))[2:].count('1')"
   ]
  },
  {
   "cell_type": "code",
   "execution_count": 160,
   "metadata": {},
   "outputs": [
    {
     "name": "stderr",
     "output_type": "stream",
     "text": [
      "C:\\Users\\alvaro2\\AppData\\Local\\Continuum\\anaconda3\\lib\\site-packages\\ipykernel_launcher.py:2: SettingWithCopyWarning: \n",
      "A value is trying to be set on a copy of a slice from a DataFrame.\n",
      "Try using .loc[row_indexer,col_indexer] = value instead\n",
      "\n",
      "See the caveats in the documentation: http://pandas.pydata.org/pandas-docs/stable/indexing.html#indexing-view-versus-copy\n",
      "  \n"
     ]
    }
   ],
   "source": [
    "slice = df[df['Error Type'] == 'ECC Error']\n",
    "slice['Error Bits'] = slice['Syndrome'].apply(syndrome_lut)"
   ]
  },
  {
   "cell_type": "code",
   "execution_count": 172,
   "metadata": {},
   "outputs": [
    {
     "name": "stdout",
     "output_type": "stream",
     "text": [
      "1    226684\n",
      "2      5514\n",
      "3      2012\n",
      "4      1638\n",
      "5      1176\n",
      "6       697\n",
      "7       516\n",
      "8       327\n",
      "Name: Error Bits, dtype: int64\n"
     ]
    },
    {
     "data": {
      "image/png": "[encoded data removed]",
      "text/plain": [
       "<matplotlib.figure.Figure at 0xb4a5898>"
      ]
     },
     "metadata": {},
     "output_type": "display_data"
    }
   ],
   "source": [
    "counts = slice['Error Bits'].value_counts()\n",
    "counts.plot(kind='bar', title='Bit Errors (all data)')\n",
    "print(counts)\n",
    "plt.xlabel('Number of Bits in Error')\n",
    "plt.ylabel('Frequency')\n",
    "plt.show()"
   ]
  },
  {
   "cell_type": "code",
   "execution_count": 174,
   "metadata": {},
   "outputs": [
    {
     "name": "stdout",
     "output_type": "stream",
     "text": [
      "1    206207\n",
      "2      4946\n",
      "3      1816\n",
      "4      1464\n",
      "5      1010\n",
      "6       595\n",
      "7       496\n",
      "8       319\n",
      "Name: Error Bits, dtype: int64\n"
     ]
    },
    {
     "data": {
      "image/png": "[encoded data removed]",
      "text/plain": [
       "<matplotlib.figure.Figure at 0xbc7e748>"
      ]
     },
     "metadata": {},
     "output_type": "display_data"
    }
   ],
   "source": [
    "subset = slice[slice['Node Type'] == 'xe']\n",
    "counts = subset['Error Bits'].value_counts()\n",
    "counts.plot(kind='bar', title='Bit Errors (XE)')\n",
    "print(counts)\n",
    "plt.xlabel('Number of Bits in Error')\n",
    "plt.ylabel('Frequency')\n",
    "plt.show()"
   ]
  },
  {
   "cell_type": "code",
   "execution_count": 175,
   "metadata": {},
   "outputs": [
    {
     "name": "stdout",
     "output_type": "stream",
     "text": [
      "1    9530\n",
      "2     568\n",
      "3     196\n",
      "4     174\n",
      "5     166\n",
      "6     102\n",
      "7      19\n",
      "8       5\n",
      "Name: Error Bits, dtype: int64\n"
     ]
    },
    {
     "data": {
      "image/png": "[encoded data removed]",
      "text/plain": [
       "<matplotlib.figure.Figure at 0xba52908>"
      ]
     },
     "metadata": {},
     "output_type": "display_data"
    }
   ],
   "source": [
    "subset = slice[slice['Node Type'] == 'xk']\n",
    "counts = subset['Error Bits'].value_counts()\n",
    "counts.plot(kind='bar', title='Bit Errors (XK)')\n",
    "print(counts)\n",
    "plt.xlabel('Number of Bits in Error')\n",
    "plt.ylabel('Frequency')\n",
    "plt.show()"
   ]
  },
  {
   "cell_type": "code",
   "execution_count": 176,
   "metadata": {},
   "outputs": [
    {
     "name": "stdout",
     "output_type": "stream",
     "text": [
      "1    10947\n",
      "8        3\n",
      "7        1\n",
      "Name: Error Bits, dtype: int64\n"
     ]
    },
    {
     "data": {
      "image/png": "[encoded data removed]",
      "text/plain": [
       "<matplotlib.figure.Figure at 0xb9ec5c0>"
      ]
     },
     "metadata": {},
     "output_type": "display_data"
    }
   ],
   "source": [
    "subset = slice[slice['Node Type'] == 'service']\n",
    "counts = subset['Error Bits'].value_counts()\n",
    "counts.plot(kind='bar', title='Bit Errors (Service)')\n",
    "print(counts)\n",
    "plt.xlabel('Number of Bits in Error')\n",
    "plt.ylabel('Frequency')\n",
    "plt.show()"
   ]
  },
  {
   "cell_type": "code",
   "execution_count": 187,
   "metadata": {},
   "outputs": [
    {
     "data": {
      "text/plain": [
       "count                     11879\n",
       "mean     0 days 00:07:21.930886\n",
       "std      0 days 00:44:46.960777\n",
       "min             0 days 00:00:00\n",
       "25%             0 days 00:00:00\n",
       "50%             0 days 00:00:18\n",
       "75%             0 days 00:02:56\n",
       "max             2 days 16:39:59\n",
       "Name: datetime, dtype: object"
      ]
     },
     "execution_count": 187,
     "metadata": {},
     "output_type": "execute_result"
    }
   ],
   "source": [
    "subset = slice[slice['Error Bits'] > 1]\n",
    "differences = subset['datetime'].diff()\n",
    "differences.describe()"
   ]
  },
  {
   "cell_type": "code",
   "execution_count": 188,
   "metadata": {},
   "outputs": [
    {
     "data": {
      "text/plain": [
       "count                     10645\n",
       "mean     0 days 00:08:11.313292\n",
       "std      0 days 00:49:57.937234\n",
       "min             0 days 00:00:00\n",
       "25%             0 days 00:00:00\n",
       "50%             0 days 00:00:10\n",
       "75%             0 days 00:02:30\n",
       "max             2 days 16:39:59\n",
       "Name: datetime, dtype: object"
      ]
     },
     "execution_count": 188,
     "metadata": {},
     "output_type": "execute_result"
    }
   ],
   "source": [
    "sub = subset[subset['Node Type'] == 'xe']\n",
    "differences = sub['datetime'].diff()\n",
    "differences.describe()"
   ]
  },
  {
   "cell_type": "code",
   "execution_count": 189,
   "metadata": {},
   "outputs": [
    {
     "data": {
      "text/plain": [
       "count                      1229\n",
       "mean     0 days 01:10:54.676159\n",
       "std      0 days 07:35:05.558328\n",
       "min             0 days 00:00:00\n",
       "25%             0 days 00:00:22\n",
       "50%             0 days 00:02:30\n",
       "75%             0 days 00:27:30\n",
       "max             6 days 04:40:39\n",
       "Name: datetime, dtype: object"
      ]
     },
     "execution_count": 189,
     "metadata": {},
     "output_type": "execute_result"
    }
   ],
   "source": [
    "sub = subset[subset['Node Type'] == 'xk']\n",
    "differences = sub['datetime'].diff()\n",
    "differences.describe()"
   ]
  },
  {
   "cell_type": "code",
   "execution_count": 190,
   "metadata": {},
   "outputs": [
    {
     "data": {
      "text/plain": [
       "count                         3\n",
       "mean            0 days 00:54:10\n",
       "std      0 days 00:40:06.241883\n",
       "min             0 days 00:12:30\n",
       "25%             0 days 00:35:00\n",
       "50%             0 days 00:57:30\n",
       "75%             0 days 01:15:00\n",
       "max             0 days 01:32:30\n",
       "Name: datetime, dtype: object"
      ]
     },
     "execution_count": 190,
     "metadata": {},
     "output_type": "execute_result"
    }
   ],
   "source": [
    "sub = subset[subset['Node Type'] == 'service']\n",
    "differences = sub['datetime'].diff()\n",
    "differences.describe()"
   ]
  },
  {
   "cell_type": "code",
   "execution_count": null,
   "metadata": {
    "collapsed": true
   },
   "outputs": [],
   "source": []
  }
 ],
 "metadata": {
  "kernelspec": {
   "display_name": "Python 3",
   "language": "python",
   "name": "python3"
  },
  "language_info": {
   "codemirror_mode": {
    "name": "ipython",
    "version": 3
   },
   "file_extension": ".py",
   "mimetype": "text/x-python",
   "name": "python",
   "nbconvert_exporter": "python",
   "pygments_lexer": "ipython3",
   "version": "3.6.3"
  }
 },
 "nbformat": 4,
 "nbformat_minor": 2
}
